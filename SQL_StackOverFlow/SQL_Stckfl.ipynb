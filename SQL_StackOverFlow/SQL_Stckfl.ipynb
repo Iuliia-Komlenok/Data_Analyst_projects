{
 "cells": [
  {
   "cell_type": "markdown",
   "metadata": {},
   "source": [
    "# Анализ взаимодействия пользователей с сервисом StackOverflow"
   ]
  },
  {
   "cell_type": "markdown",
   "metadata": {},
   "source": [
    "StackOverflow — сервиса вопросов и ответов о программировании. StackOverflow похож на социальную сеть — пользователи сервиса задают вопросы, отвечают на посты, оставляют комментарии и ставят оценки другим ответам.\n",
    "\n",
    "**Цель исследования:**\n",
    "Написание ряда запросов к базе данных StackOverflow с целью демонстрации выгрузки заданных таблиц, анализа, поиска аномалий в данных.\n",
    "\n",
    "**Задачи исследования:**\n",
    "- выгрузки заданных таблиц,\n",
    "- анализ полученных из базы данных,\n",
    "- поиск аномалий,\n",
    "- написание выводов.\n",
    "\n",
    "**Источники исследования**:\n",
    "Версия базы StackOverflow, где хранятся данные о постах за 2008 год, а также и более поздние оценки, которые эти посты получили."
   ]
  },
  {
   "cell_type": "markdown",
   "metadata": {},
   "source": [
    "## Знакомство с базой данных, импорт бибилиотек"
   ]
  },
  {
   "cell_type": "markdown",
   "metadata": {},
   "source": [
    "**Таблица `badges`**\n",
    "\n",
    "Хранит информацию о значках, которые присуждаются за разные достижения. Например, пользователь, правильно ответивший на большое количество вопросов про PostgreSQL, может получить значок postgresql.\n",
    "- `id` - Идентификатор значка, первичный ключ таблицы.\n",
    "- `name` - Название значка.\n",
    "- `user_id`\t- Идентификатор пользователя, которому присвоили значок, внешний ключ, отсылающий к таблице `users`.\n",
    "- `creation_date` -\tДата присвоения значка."
   ]
  },
  {
   "cell_type": "markdown",
   "metadata": {},
   "source": [
    "**Таблица `post_types`**\n",
    "\n",
    "Содержит информацию о типе постов. Их может быть два:\n",
    "Question — пост с вопросом;\n",
    "Answer — пост с ответом.\n",
    "\n",
    "- `id`\t- Идентификатор поста, первичный ключ таблицы.\n",
    "- `type` -\tТип поста."
   ]
  },
  {
   "cell_type": "markdown",
   "metadata": {},
   "source": [
    "**Таблица `posts`**\n",
    "\n",
    "Содержит информацию о постах.\n",
    "\n",
    "- `id`\t- Идентификатор поста, первичный ключ таблицы.\n",
    "- `title` -\tЗаголовок поста.\n",
    "- `creation_date`\t- Дата создания поста.\n",
    "- `favorites_count` -\tЧисло, которое показывает, сколько раз пост добавили в «Закладки».\n",
    "- `last_activity_date`\t- Дата последнего действия в посте, например комментария.\n",
    "- `last_edit_date` -\tДата последнего изменения поста.\n",
    "- `user_id` -\tИдентификатор пользователя, который создал пост, внешний ключ к таблице `users`.\n",
    "- `parent_id` -\tЕсли пост написали в ответ на другую публикацию, в это поле попадёт идентификатор поста с вопросом.\n",
    "- `post_type_id` -\tИдентификатор типа поста, внешний ключ к таблице `post_types`.\n",
    "- `score`\t- Количество очков, которое набрал пост.\n",
    "- `views_count` -\tКоличество просмотров."
   ]
  },
  {
   "cell_type": "markdown",
   "metadata": {},
   "source": [
    "**Таблица `users`**\n",
    "\n",
    "Содержит информацию о пользователях.\n",
    "\n",
    "- `id`\t- Идентификатор пользователя, первичный ключ таблицы.\n",
    "- `creation_date`\t- Дата регистрации пользователя.\n",
    "- `display_name` -\tИмя пользователя.\n",
    "- `last_access_date` -\tДата последнего входа.\n",
    "- `location` -\tМестоположение.\n",
    "- `reputation` -\tОчки репутации, которые получают за хорошие вопросы и полезные ответы.\n",
    "- `views` -\tЧисло просмотров профиля пользователя."
   ]
  },
  {
   "cell_type": "markdown",
   "metadata": {},
   "source": [
    "**Таблица `vote_types`**\n",
    "\n",
    "Содержит информацию о типах голосов. Голос — это метка, которую пользователи ставят посту. Типов бывает несколько:\n",
    "- UpMod — такую отметку получают посты с вопросами или ответами, которые пользователи посчитали уместными и полезными.\n",
    "- DownMod — такую отметку получают посты, которые показались пользователям наименее полезными.\n",
    "- Close — такую метку ставят опытные пользователи сервиса, если заданный вопрос нужно доработать или он вообще не подходит для платформы.\n",
    "- Offensive — такую метку могут поставить, если пользователь ответил на вопрос в грубой и оскорбительной манере, например, указав на неопытность автора поста.\n",
    "- Spam — такую метку ставят в случае, если пост пользователя выглядит откровенной рекламой.\n",
    "\n",
    "\n",
    "* `id`\t- Идентификатор типа голоса, первичный ключ.\n",
    "* `name` -\tНазвание метки."
   ]
  },
  {
   "cell_type": "markdown",
   "metadata": {},
   "source": [
    "**Таблица `votes`**\n",
    "\n",
    "Содержит информацию о голосах за посты.\n",
    "\n",
    "- `id`\t- Идентификатор голоса, первичный ключ.\n",
    "- `post_id` -\tИдентификатор поста, внешний ключ к таблице `posts`.\n",
    "- `user_id`\t- Идентификатор пользователя, который поставил посту голос, внешний ключ к таблице `users`.\n",
    "- `bounty_amount`\t- Сумма вознаграждения, которое назначают, чтобы привлечь внимание к посту.\n",
    "- `vote_type_id` -\tИдентификатор типа голоса, внешний ключ к таблице `vote_types`.\n",
    "- `creation_date`\t- Дата назначения голоса."
   ]
  },
  {
   "cell_type": "markdown",
   "metadata": {},
   "source": [
    "Загрузим необходимые библиотеки."
   ]
  },
  {
   "cell_type": "code",
   "execution_count": 1,
   "metadata": {
    "id": "nlZBlglMDWKe"
   },
   "outputs": [],
   "source": [
    "#!pip install sqlalchemy\n",
    "#!pip install psycopg2\n",
    "import pandas as pd\n",
    "import matplotlib.pyplot as plt\n",
    "from sqlalchemy import create_engine\n",
    "import seaborn as sns\n",
    "pd.set_option('display.max_columns', None)"
   ]
  },
  {
   "cell_type": "markdown",
   "metadata": {
    "id": "XnOE3n28DWKg"
   },
   "source": [
    "## Подключение к базе данных `data-analyst-advanced-sql`"
   ]
  },
  {
   "cell_type": "code",
   "execution_count": 2,
   "metadata": {
    "id": "6p-yGp7qDWKg"
   },
   "outputs": [],
   "source": [
    "db_config = {\n",
    "    'user': 'praktikum_student', # имя пользователя\n",
    "    'pwd': 'Sdf4$2;d-d30pp', # пароль\n",
    "    'host': 'rc1b-wcoijxj3yxfsf3fs.mdb.yandexcloud.net',\n",
    "    'port': 6432, # порт подключения\n",
    "    'db': 'data-analyst-advanced-sql' # название базы данных\n",
    "}  \n",
    "\n",
    "connection_string = 'postgresql://{}:{}@{}:{}/{}'.format(\n",
    "    db_config['user'],\n",
    "    db_config['pwd'],\n",
    "    db_config['host'],\n",
    "    db_config['port'],\n",
    "    db_config['db'],\n",
    ")"
   ]
  },
  {
   "cell_type": "markdown",
   "metadata": {
    "id": "2Rg8ZpS0DWKh"
   },
   "source": [
    "Создадим подключение."
   ]
  },
  {
   "cell_type": "code",
   "execution_count": 3,
   "metadata": {
    "id": "DamCUTR6DWKi",
    "scrolled": true
   },
   "outputs": [],
   "source": [
    "engine = create_engine(connection_string) "
   ]
  },
  {
   "cell_type": "markdown",
   "metadata": {
    "id": "bel8XeSlDWKj"
   },
   "source": [
    "Создадим запрос к базе данных и выведем первые 10 строк таблицы `users`, сохранив их в pandas-датафрейм `sample_df`."
   ]
  },
  {
   "cell_type": "code",
   "execution_count": 4,
   "metadata": {
    "id": "6Z_fw0yLDWKk"
   },
   "outputs": [],
   "source": [
    "query = '''\n",
    "SELECT *\n",
    "FROM stackoverflow.users\n",
    "LIMIT 10;\n",
    "'''\n",
    "\n",
    "sample_df = pd.read_sql_query(query, con=engine) "
   ]
  },
  {
   "cell_type": "code",
   "execution_count": 5,
   "metadata": {
    "id": "ZpuZ290oDWKk",
    "outputId": "22785a0a-e2bc-4559-ec3c-4879c4b377eb"
   },
   "outputs": [
    {
     "data": {
      "text/html": [
       "<div>\n",
       "<style scoped>\n",
       "    .dataframe tbody tr th:only-of-type {\n",
       "        vertical-align: middle;\n",
       "    }\n",
       "\n",
       "    .dataframe tbody tr th {\n",
       "        vertical-align: top;\n",
       "    }\n",
       "\n",
       "    .dataframe thead th {\n",
       "        text-align: right;\n",
       "    }\n",
       "</style>\n",
       "<table border=\"1\" class=\"dataframe\">\n",
       "  <thead>\n",
       "    <tr style=\"text-align: right;\">\n",
       "      <th></th>\n",
       "      <th>id</th>\n",
       "      <th>creation_date</th>\n",
       "      <th>display_name</th>\n",
       "      <th>last_access_date</th>\n",
       "      <th>location</th>\n",
       "      <th>reputation</th>\n",
       "      <th>views</th>\n",
       "    </tr>\n",
       "  </thead>\n",
       "  <tbody>\n",
       "    <tr>\n",
       "      <th>0</th>\n",
       "      <td>1</td>\n",
       "      <td>2008-07-31 14:22:31</td>\n",
       "      <td>Jeff Atwood</td>\n",
       "      <td>2018-08-29 02:34:23</td>\n",
       "      <td>El Cerrito, CA</td>\n",
       "      <td>44300</td>\n",
       "      <td>408587</td>\n",
       "    </tr>\n",
       "    <tr>\n",
       "      <th>1</th>\n",
       "      <td>2</td>\n",
       "      <td>2008-07-31 14:22:31</td>\n",
       "      <td>Geoff Dalgas</td>\n",
       "      <td>2018-08-23 17:31:56</td>\n",
       "      <td>Corvallis, OR</td>\n",
       "      <td>3491</td>\n",
       "      <td>23966</td>\n",
       "    </tr>\n",
       "    <tr>\n",
       "      <th>2</th>\n",
       "      <td>3</td>\n",
       "      <td>2008-07-31 14:22:31</td>\n",
       "      <td>Jarrod Dixon</td>\n",
       "      <td>2018-08-30 20:56:24</td>\n",
       "      <td>Raleigh, NC, United States</td>\n",
       "      <td>13418</td>\n",
       "      <td>24396</td>\n",
       "    </tr>\n",
       "    <tr>\n",
       "      <th>3</th>\n",
       "      <td>4</td>\n",
       "      <td>2008-07-31 14:22:31</td>\n",
       "      <td>Joel Spolsky</td>\n",
       "      <td>2018-08-14 22:18:15</td>\n",
       "      <td>New York, NY</td>\n",
       "      <td>28768</td>\n",
       "      <td>73755</td>\n",
       "    </tr>\n",
       "    <tr>\n",
       "      <th>4</th>\n",
       "      <td>5</td>\n",
       "      <td>2008-07-31 14:22:31</td>\n",
       "      <td>Jon Galloway</td>\n",
       "      <td>2018-08-29 16:48:36</td>\n",
       "      <td>San Diego, CA</td>\n",
       "      <td>39172</td>\n",
       "      <td>11700</td>\n",
       "    </tr>\n",
       "    <tr>\n",
       "      <th>5</th>\n",
       "      <td>8</td>\n",
       "      <td>2008-07-31 21:33:24</td>\n",
       "      <td>Eggs McLaren</td>\n",
       "      <td>2018-04-09 02:04:56</td>\n",
       "      <td>None</td>\n",
       "      <td>942</td>\n",
       "      <td>6372</td>\n",
       "    </tr>\n",
       "    <tr>\n",
       "      <th>6</th>\n",
       "      <td>9</td>\n",
       "      <td>2008-07-31 21:35:27</td>\n",
       "      <td>Kevin Dente</td>\n",
       "      <td>2018-08-30 18:18:03</td>\n",
       "      <td>Oakland, CA</td>\n",
       "      <td>14337</td>\n",
       "      <td>4949</td>\n",
       "    </tr>\n",
       "    <tr>\n",
       "      <th>7</th>\n",
       "      <td>11</td>\n",
       "      <td>2008-08-01 00:59:11</td>\n",
       "      <td>Anonymous User</td>\n",
       "      <td>2008-08-01 00:59:11</td>\n",
       "      <td>None</td>\n",
       "      <td>1890</td>\n",
       "      <td>2123</td>\n",
       "    </tr>\n",
       "    <tr>\n",
       "      <th>8</th>\n",
       "      <td>13</td>\n",
       "      <td>2008-08-01 04:18:05</td>\n",
       "      <td>Chris Jester-Young</td>\n",
       "      <td>2018-08-30 02:47:23</td>\n",
       "      <td>Raleigh, NC, United States</td>\n",
       "      <td>177138</td>\n",
       "      <td>35414</td>\n",
       "    </tr>\n",
       "    <tr>\n",
       "      <th>9</th>\n",
       "      <td>17</td>\n",
       "      <td>2008-08-01 12:02:22</td>\n",
       "      <td>Nick Berardi</td>\n",
       "      <td>2018-01-22 01:35:38</td>\n",
       "      <td>Issaquah, WA</td>\n",
       "      <td>44443</td>\n",
       "      <td>4786</td>\n",
       "    </tr>\n",
       "  </tbody>\n",
       "</table>\n",
       "</div>"
      ],
      "text/plain": [
       "   id       creation_date        display_name    last_access_date  \\\n",
       "0   1 2008-07-31 14:22:31         Jeff Atwood 2018-08-29 02:34:23   \n",
       "1   2 2008-07-31 14:22:31        Geoff Dalgas 2018-08-23 17:31:56   \n",
       "2   3 2008-07-31 14:22:31        Jarrod Dixon 2018-08-30 20:56:24   \n",
       "3   4 2008-07-31 14:22:31        Joel Spolsky 2018-08-14 22:18:15   \n",
       "4   5 2008-07-31 14:22:31        Jon Galloway 2018-08-29 16:48:36   \n",
       "5   8 2008-07-31 21:33:24        Eggs McLaren 2018-04-09 02:04:56   \n",
       "6   9 2008-07-31 21:35:27         Kevin Dente 2018-08-30 18:18:03   \n",
       "7  11 2008-08-01 00:59:11      Anonymous User 2008-08-01 00:59:11   \n",
       "8  13 2008-08-01 04:18:05  Chris Jester-Young 2018-08-30 02:47:23   \n",
       "9  17 2008-08-01 12:02:22        Nick Berardi 2018-01-22 01:35:38   \n",
       "\n",
       "                     location  reputation   views  \n",
       "0              El Cerrito, CA       44300  408587  \n",
       "1               Corvallis, OR        3491   23966  \n",
       "2  Raleigh, NC, United States       13418   24396  \n",
       "3                New York, NY       28768   73755  \n",
       "4               San Diego, CA       39172   11700  \n",
       "5                        None         942    6372  \n",
       "6                 Oakland, CA       14337    4949  \n",
       "7                        None        1890    2123  \n",
       "8  Raleigh, NC, United States      177138   35414  \n",
       "9                Issaquah, WA       44443    4786  "
      ]
     },
     "execution_count": 5,
     "metadata": {},
     "output_type": "execute_result"
    }
   ],
   "source": [
    "sample_df"
   ]
  },
  {
   "cell_type": "markdown",
   "metadata": {
    "id": "gnBMXkDBDWKm"
   },
   "source": [
    "## Анализ просмотров постов за каждый месяц"
   ]
  },
  {
   "cell_type": "markdown",
   "metadata": {
    "id": "vHsfOrrNDWKn"
   },
   "source": [
    "Выведем общую сумму просмотров постов за каждый месяц 2008 года. Если данных за какой-либо месяц в базе нет, такой месяц можно пропустить. Результат отсортируем по убыванию общего количества просмотров."
   ]
  },
  {
   "cell_type": "code",
   "execution_count": 6,
   "metadata": {
    "id": "eWvykcXTDWKo"
   },
   "outputs": [],
   "source": [
    "query = '''\n",
    "SELECT DATE_TRUNC('month', creation_date)::date AS month_date,\n",
    "       SUM(views_count) AS total_views\n",
    "FROM stackoverflow.posts\n",
    "WHERE DATE_TRUNC('year', creation_date)::date = '2008-01-01'\n",
    "GROUP BY month_date\n",
    "ORDER BY total_views DESC;\n",
    "'''"
   ]
  },
  {
   "cell_type": "code",
   "execution_count": 7,
   "metadata": {},
   "outputs": [],
   "source": [
    "total_views = pd.read_sql_query(query, con=engine) "
   ]
  },
  {
   "cell_type": "code",
   "execution_count": 8,
   "metadata": {},
   "outputs": [
    {
     "data": {
      "text/html": [
       "<div>\n",
       "<style scoped>\n",
       "    .dataframe tbody tr th:only-of-type {\n",
       "        vertical-align: middle;\n",
       "    }\n",
       "\n",
       "    .dataframe tbody tr th {\n",
       "        vertical-align: top;\n",
       "    }\n",
       "\n",
       "    .dataframe thead th {\n",
       "        text-align: right;\n",
       "    }\n",
       "</style>\n",
       "<table border=\"1\" class=\"dataframe\">\n",
       "  <thead>\n",
       "    <tr style=\"text-align: right;\">\n",
       "      <th></th>\n",
       "      <th>month_date</th>\n",
       "      <th>total_views</th>\n",
       "    </tr>\n",
       "  </thead>\n",
       "  <tbody>\n",
       "    <tr>\n",
       "      <th>0</th>\n",
       "      <td>2008-09-01</td>\n",
       "      <td>452928568</td>\n",
       "    </tr>\n",
       "    <tr>\n",
       "      <th>1</th>\n",
       "      <td>2008-10-01</td>\n",
       "      <td>365400138</td>\n",
       "    </tr>\n",
       "    <tr>\n",
       "      <th>2</th>\n",
       "      <td>2008-11-01</td>\n",
       "      <td>221759651</td>\n",
       "    </tr>\n",
       "    <tr>\n",
       "      <th>3</th>\n",
       "      <td>2008-12-01</td>\n",
       "      <td>197792841</td>\n",
       "    </tr>\n",
       "    <tr>\n",
       "      <th>4</th>\n",
       "      <td>2008-08-01</td>\n",
       "      <td>131367083</td>\n",
       "    </tr>\n",
       "    <tr>\n",
       "      <th>5</th>\n",
       "      <td>2008-07-01</td>\n",
       "      <td>669895</td>\n",
       "    </tr>\n",
       "  </tbody>\n",
       "</table>\n",
       "</div>"
      ],
      "text/plain": [
       "   month_date  total_views\n",
       "0  2008-09-01    452928568\n",
       "1  2008-10-01    365400138\n",
       "2  2008-11-01    221759651\n",
       "3  2008-12-01    197792841\n",
       "4  2008-08-01    131367083\n",
       "5  2008-07-01       669895"
      ]
     },
     "metadata": {},
     "output_type": "display_data"
    }
   ],
   "source": [
    "display(total_views)"
   ]
  },
  {
   "cell_type": "markdown",
   "metadata": {
    "id": "luxSj17oDWKq"
   },
   "source": [
    "**Вывод**\n",
    "\n",
    "Наибольшее количество просмотров приходится на сентябрь, снижаясь постепенно к декабрю. Вероятно, пользователи платформы - молодые люди, чье начало учебного года приходится на сентябрь, что означает взлет коммуникаций по различным учебным вопросам. Кроме того, минимальное количество приходится на летние месяцы июль и август, что также связано с отпусками, каникулами и снижением активности в Интернете. К декабрю просмотры падают - идет подготовка к новогодним праздникам, каникулам и, возможно, отпускам."
   ]
  },
  {
   "cell_type": "markdown",
   "metadata": {
    "id": "FziIXkn5DWKr"
   },
   "source": [
    "## Анализ самых активных пользователей с ответами"
   ]
  },
  {
   "cell_type": "markdown",
   "metadata": {
    "id": "fTGESZvYDWKr"
   },
   "source": [
    "Выведем имена самых активных пользователей, которые в первый месяц после регистрации (включая день регистрации) дали больше 100 ответов. Вопросы, которые задавали пользователи, не будем учитывать. Для каждого имени пользователя выведем количество уникальных значений `user_id`. Отсортируем результат по полю с именами в лексикографическом порядке."
   ]
  },
  {
   "cell_type": "code",
   "execution_count": 9,
   "metadata": {
    "id": "fIO-y-YjDWKt"
   },
   "outputs": [],
   "source": [
    "query = '''\n",
    "SELECT display_name AS name,\n",
    "       COUNT(DISTINCT u.id) AS id_count\n",
    "FROM stackoverflow.users u JOIN stackoverflow.posts p ON u.id = p.user_id\n",
    "JOIN stackoverflow.post_types pt ON p.post_type_id = pt.id\n",
    "WHERE p.creation_date BETWEEN u.creation_date AND u.creation_date + INTERVAL '1 month'\n",
    "AND pt.type = 'Answer'\n",
    "GROUP BY display_name\n",
    "HAVING COUNT(p.id) > 100\n",
    "ORDER BY display_name\n",
    "'''"
   ]
  },
  {
   "cell_type": "code",
   "execution_count": 10,
   "metadata": {},
   "outputs": [],
   "source": [
    "names = pd.read_sql_query(query, con=engine)"
   ]
  },
  {
   "cell_type": "code",
   "execution_count": 11,
   "metadata": {
    "scrolled": true
   },
   "outputs": [
    {
     "data": {
      "text/html": [
       "<div>\n",
       "<style scoped>\n",
       "    .dataframe tbody tr th:only-of-type {\n",
       "        vertical-align: middle;\n",
       "    }\n",
       "\n",
       "    .dataframe tbody tr th {\n",
       "        vertical-align: top;\n",
       "    }\n",
       "\n",
       "    .dataframe thead th {\n",
       "        text-align: right;\n",
       "    }\n",
       "</style>\n",
       "<table border=\"1\" class=\"dataframe\">\n",
       "  <thead>\n",
       "    <tr style=\"text-align: right;\">\n",
       "      <th></th>\n",
       "      <th>0</th>\n",
       "      <th>1</th>\n",
       "      <th>2</th>\n",
       "      <th>3</th>\n",
       "      <th>4</th>\n",
       "      <th>5</th>\n",
       "      <th>6</th>\n",
       "      <th>7</th>\n",
       "      <th>8</th>\n",
       "      <th>9</th>\n",
       "      <th>10</th>\n",
       "      <th>11</th>\n",
       "      <th>12</th>\n",
       "      <th>13</th>\n",
       "      <th>14</th>\n",
       "      <th>15</th>\n",
       "      <th>16</th>\n",
       "      <th>17</th>\n",
       "      <th>18</th>\n",
       "      <th>19</th>\n",
       "      <th>20</th>\n",
       "      <th>21</th>\n",
       "      <th>22</th>\n",
       "      <th>23</th>\n",
       "      <th>24</th>\n",
       "      <th>25</th>\n",
       "      <th>26</th>\n",
       "      <th>27</th>\n",
       "      <th>28</th>\n",
       "      <th>29</th>\n",
       "      <th>30</th>\n",
       "      <th>31</th>\n",
       "      <th>32</th>\n",
       "      <th>33</th>\n",
       "      <th>34</th>\n",
       "      <th>35</th>\n",
       "      <th>36</th>\n",
       "      <th>37</th>\n",
       "      <th>38</th>\n",
       "      <th>39</th>\n",
       "      <th>40</th>\n",
       "      <th>41</th>\n",
       "      <th>42</th>\n",
       "      <th>43</th>\n",
       "      <th>44</th>\n",
       "      <th>45</th>\n",
       "      <th>46</th>\n",
       "      <th>47</th>\n",
       "      <th>48</th>\n",
       "      <th>49</th>\n",
       "      <th>50</th>\n",
       "      <th>51</th>\n",
       "      <th>52</th>\n",
       "      <th>53</th>\n",
       "      <th>54</th>\n",
       "      <th>55</th>\n",
       "      <th>56</th>\n",
       "      <th>57</th>\n",
       "      <th>58</th>\n",
       "      <th>59</th>\n",
       "      <th>60</th>\n",
       "      <th>61</th>\n",
       "      <th>62</th>\n",
       "      <th>63</th>\n",
       "      <th>64</th>\n",
       "      <th>65</th>\n",
       "      <th>66</th>\n",
       "      <th>67</th>\n",
       "      <th>68</th>\n",
       "      <th>69</th>\n",
       "      <th>70</th>\n",
       "      <th>71</th>\n",
       "      <th>72</th>\n",
       "      <th>73</th>\n",
       "      <th>74</th>\n",
       "      <th>75</th>\n",
       "    </tr>\n",
       "  </thead>\n",
       "  <tbody>\n",
       "    <tr>\n",
       "      <th>name</th>\n",
       "      <td>1800 INFORMATION</td>\n",
       "      <td>Adam Bellaire</td>\n",
       "      <td>Adam Davis</td>\n",
       "      <td>Adam Liss</td>\n",
       "      <td>Alan</td>\n",
       "      <td>Amy B</td>\n",
       "      <td>Ben Hoffstein</td>\n",
       "      <td>Brian</td>\n",
       "      <td>Cade Roux</td>\n",
       "      <td>CesarB</td>\n",
       "      <td>Chris</td>\n",
       "      <td>ConcernedOfTunbridgeWells</td>\n",
       "      <td>Craig</td>\n",
       "      <td>Dale Ragan</td>\n",
       "      <td>Dan</td>\n",
       "      <td>Eric Z Beard</td>\n",
       "      <td>Espo</td>\n",
       "      <td>FlySwat</td>\n",
       "      <td>Franci Penov</td>\n",
       "      <td>GEOCHET</td>\n",
       "      <td>GateKiller</td>\n",
       "      <td>Greg</td>\n",
       "      <td>Gulzar Nazim</td>\n",
       "      <td>Ilya Kochetov</td>\n",
       "      <td>James Curran</td>\n",
       "      <td>Jim</td>\n",
       "      <td>Joe</td>\n",
       "      <td>Joel Coehoorn</td>\n",
       "      <td>Johannes Schaub - litb</td>\n",
       "      <td>John Millikin</td>\n",
       "      <td>Jon Limjap</td>\n",
       "      <td>Jon Skeet</td>\n",
       "      <td>Jorge Ferreira</td>\n",
       "      <td>Josh</td>\n",
       "      <td>Keith</td>\n",
       "      <td>Kevin</td>\n",
       "      <td>Kibbee</td>\n",
       "      <td>Konrad Rudolph</td>\n",
       "      <td>Lasse Vågsæther Karlsen</td>\n",
       "      <td>Marc Gravell</td>\n",
       "      <td>Mark</td>\n",
       "      <td>Mark Cidade</td>\n",
       "      <td>Mark Harrison</td>\n",
       "      <td>Matt</td>\n",
       "      <td>Matt Hamilton</td>\n",
       "      <td>Michael Burr</td>\n",
       "      <td>Michael Stum</td>\n",
       "      <td>Mitchel Sellers</td>\n",
       "      <td>Nick</td>\n",
       "      <td>Norman Ramsey</td>\n",
       "      <td>Oli</td>\n",
       "      <td>Orion Edwards</td>\n",
       "      <td>Paul Nathan</td>\n",
       "      <td>PhiLho</td>\n",
       "      <td>Rob</td>\n",
       "      <td>Rob Cooper</td>\n",
       "      <td>Rob Walker</td>\n",
       "      <td>Ryan</td>\n",
       "      <td>S.Lott</td>\n",
       "      <td>Sklivvz</td>\n",
       "      <td>Steven A. Lowe</td>\n",
       "      <td>TheSmurf</td>\n",
       "      <td>Tom</td>\n",
       "      <td>Vilx-</td>\n",
       "      <td>Vinko Vrsalovic</td>\n",
       "      <td>aku</td>\n",
       "      <td>anjanb</td>\n",
       "      <td>dkretz</td>\n",
       "      <td>frankodwyer</td>\n",
       "      <td>gbjbaanb</td>\n",
       "      <td>jfs</td>\n",
       "      <td>leppie</td>\n",
       "      <td>lomaxx</td>\n",
       "      <td>mattlant</td>\n",
       "      <td>paxdiablo</td>\n",
       "      <td>tzot</td>\n",
       "    </tr>\n",
       "    <tr>\n",
       "      <th>id_count</th>\n",
       "      <td>1</td>\n",
       "      <td>1</td>\n",
       "      <td>1</td>\n",
       "      <td>1</td>\n",
       "      <td>8</td>\n",
       "      <td>1</td>\n",
       "      <td>1</td>\n",
       "      <td>15</td>\n",
       "      <td>1</td>\n",
       "      <td>1</td>\n",
       "      <td>29</td>\n",
       "      <td>1</td>\n",
       "      <td>10</td>\n",
       "      <td>1</td>\n",
       "      <td>21</td>\n",
       "      <td>1</td>\n",
       "      <td>1</td>\n",
       "      <td>1</td>\n",
       "      <td>1</td>\n",
       "      <td>1</td>\n",
       "      <td>1</td>\n",
       "      <td>12</td>\n",
       "      <td>1</td>\n",
       "      <td>1</td>\n",
       "      <td>1</td>\n",
       "      <td>7</td>\n",
       "      <td>9</td>\n",
       "      <td>1</td>\n",
       "      <td>1</td>\n",
       "      <td>1</td>\n",
       "      <td>1</td>\n",
       "      <td>1</td>\n",
       "      <td>1</td>\n",
       "      <td>16</td>\n",
       "      <td>5</td>\n",
       "      <td>11</td>\n",
       "      <td>1</td>\n",
       "      <td>1</td>\n",
       "      <td>1</td>\n",
       "      <td>1</td>\n",
       "      <td>16</td>\n",
       "      <td>1</td>\n",
       "      <td>1</td>\n",
       "      <td>29</td>\n",
       "      <td>1</td>\n",
       "      <td>1</td>\n",
       "      <td>1</td>\n",
       "      <td>1</td>\n",
       "      <td>16</td>\n",
       "      <td>1</td>\n",
       "      <td>3</td>\n",
       "      <td>1</td>\n",
       "      <td>1</td>\n",
       "      <td>1</td>\n",
       "      <td>15</td>\n",
       "      <td>1</td>\n",
       "      <td>1</td>\n",
       "      <td>10</td>\n",
       "      <td>1</td>\n",
       "      <td>1</td>\n",
       "      <td>1</td>\n",
       "      <td>1</td>\n",
       "      <td>19</td>\n",
       "      <td>1</td>\n",
       "      <td>1</td>\n",
       "      <td>1</td>\n",
       "      <td>1</td>\n",
       "      <td>1</td>\n",
       "      <td>1</td>\n",
       "      <td>1</td>\n",
       "      <td>3</td>\n",
       "      <td>1</td>\n",
       "      <td>1</td>\n",
       "      <td>1</td>\n",
       "      <td>1</td>\n",
       "      <td>1</td>\n",
       "    </tr>\n",
       "  </tbody>\n",
       "</table>\n",
       "</div>"
      ],
      "text/plain": [
       "                        0              1           2          3     4      5   \\\n",
       "name      1800 INFORMATION  Adam Bellaire  Adam Davis  Adam Liss  Alan  Amy B   \n",
       "id_count                 1              1           1          1     8      1   \n",
       "\n",
       "                     6      7          8       9      10  \\\n",
       "name      Ben Hoffstein  Brian  Cade Roux  CesarB  Chris   \n",
       "id_count              1     15          1       1     29   \n",
       "\n",
       "                                 11     12          13   14            15  \\\n",
       "name      ConcernedOfTunbridgeWells  Craig  Dale Ragan  Dan  Eric Z Beard   \n",
       "id_count                          1     10           1   21             1   \n",
       "\n",
       "            16       17            18       19          20    21  \\\n",
       "name      Espo  FlySwat  Franci Penov  GEOCHET  GateKiller  Greg   \n",
       "id_count     1        1             1        1           1    12   \n",
       "\n",
       "                    22             23            24   25   26             27  \\\n",
       "name      Gulzar Nazim  Ilya Kochetov  James Curran  Jim  Joe  Joel Coehoorn   \n",
       "id_count             1              1             1    7    9              1   \n",
       "\n",
       "                              28             29          30         31  \\\n",
       "name      Johannes Schaub - litb  John Millikin  Jon Limjap  Jon Skeet   \n",
       "id_count                       1              1           1          1   \n",
       "\n",
       "                      32    33     34     35      36              37  \\\n",
       "name      Jorge Ferreira  Josh  Keith  Kevin  Kibbee  Konrad Rudolph   \n",
       "id_count               1    16      5     11       1               1   \n",
       "\n",
       "                               38            39    40           41  \\\n",
       "name      Lasse Vågsæther Karlsen  Marc Gravell  Mark  Mark Cidade   \n",
       "id_count                        1             1    16            1   \n",
       "\n",
       "                     42    43             44            45            46  \\\n",
       "name      Mark Harrison  Matt  Matt Hamilton  Michael Burr  Michael Stum   \n",
       "id_count              1    29              1             1             1   \n",
       "\n",
       "                       47    48             49   50             51  \\\n",
       "name      Mitchel Sellers  Nick  Norman Ramsey  Oli  Orion Edwards   \n",
       "id_count                1    16              1    3              1   \n",
       "\n",
       "                   52      53   54          55          56    57      58  \\\n",
       "name      Paul Nathan  PhiLho  Rob  Rob Cooper  Rob Walker  Ryan  S.Lott   \n",
       "id_count            1       1   15           1           1    10       1   \n",
       "\n",
       "               59              60        61   62     63               64   65  \\\n",
       "name      Sklivvz  Steven A. Lowe  TheSmurf  Tom  Vilx-  Vinko Vrsalovic  aku   \n",
       "id_count        1               1         1   19      1                1    1   \n",
       "\n",
       "              66      67           68        69   70      71      72  \\\n",
       "name      anjanb  dkretz  frankodwyer  gbjbaanb  jfs  leppie  lomaxx   \n",
       "id_count       1       1            1         1    3       1       1   \n",
       "\n",
       "                73         74    75  \n",
       "name      mattlant  paxdiablo  tzot  \n",
       "id_count         1          1     1  "
      ]
     },
     "metadata": {},
     "output_type": "display_data"
    }
   ],
   "source": [
    "display(names.T)"
   ]
  },
  {
   "cell_type": "markdown",
   "metadata": {
    "id": "CEIGGQ6ODWKy"
   },
   "source": [
    "**Вывод**\n",
    "\n",
    "Очевидно, что такие имена, как Brian, Alan, Chris и другие, являются частоупотребимыми и не могут служить подходящим вариантов для идентикации уникальных пользователей. Таким образом, использование имен с этой целью ведет к искажениям."
   ]
  },
  {
   "cell_type": "markdown",
   "metadata": {
    "id": "JhM2xXj5DWKu"
   },
   "source": [
    "## Поиск аномалий в датах регистраций и размещения постов"
   ]
  },
  {
   "cell_type": "markdown",
   "metadata": {
    "id": "IS6xPqyyDWKu"
   },
   "source": [
    "Отберем посты пользователей, которые зарегистрировались в сентябре 2008 года и сделали хотя бы один пост в декабре того же года, выведем количество их постов за каждый месяц. Отсортируем таблицу по значению месяца по убыванию."
   ]
  },
  {
   "cell_type": "code",
   "execution_count": 12,
   "metadata": {
    "id": "kVu0FB8WDWKv"
   },
   "outputs": [],
   "source": [
    "query = '''\n",
    "WITH users AS (SELECT id\n",
    "               FROM stackoverflow.users\n",
    "               WHERE id IN (SELECT user_id\n",
    "                            FROM stackoverflow.posts\n",
    "                            WHERE DATE_TRUNC('month', creation_date)::date='2008-12-01')\n",
    "               AND\n",
    "                     DATE_TRUNC('month', creation_date)::date='2008-09-01')\n",
    "SELECT DATE_TRUNC('month', creation_date)::date,\n",
    "       COUNT(id)\n",
    "FROM stackoverflow.posts\n",
    "WHERE user_id IN (SELECT id\n",
    "                  FROM users)\n",
    "GROUP BY DATE_TRUNC('month', creation_date)::date\n",
    "ORDER BY DATE_TRUNC('month', creation_date)::date DESC;\n",
    "'''"
   ]
  },
  {
   "cell_type": "code",
   "execution_count": 13,
   "metadata": {},
   "outputs": [],
   "source": [
    "posts_count = pd.read_sql_query(query, con=engine)"
   ]
  },
  {
   "cell_type": "code",
   "execution_count": 14,
   "metadata": {},
   "outputs": [
    {
     "data": {
      "text/html": [
       "<div>\n",
       "<style scoped>\n",
       "    .dataframe tbody tr th:only-of-type {\n",
       "        vertical-align: middle;\n",
       "    }\n",
       "\n",
       "    .dataframe tbody tr th {\n",
       "        vertical-align: top;\n",
       "    }\n",
       "\n",
       "    .dataframe thead th {\n",
       "        text-align: right;\n",
       "    }\n",
       "</style>\n",
       "<table border=\"1\" class=\"dataframe\">\n",
       "  <thead>\n",
       "    <tr style=\"text-align: right;\">\n",
       "      <th></th>\n",
       "      <th>date_trunc</th>\n",
       "      <th>count</th>\n",
       "    </tr>\n",
       "  </thead>\n",
       "  <tbody>\n",
       "    <tr>\n",
       "      <th>0</th>\n",
       "      <td>2008-12-01</td>\n",
       "      <td>17641</td>\n",
       "    </tr>\n",
       "    <tr>\n",
       "      <th>1</th>\n",
       "      <td>2008-11-01</td>\n",
       "      <td>18294</td>\n",
       "    </tr>\n",
       "    <tr>\n",
       "      <th>2</th>\n",
       "      <td>2008-10-01</td>\n",
       "      <td>27171</td>\n",
       "    </tr>\n",
       "    <tr>\n",
       "      <th>3</th>\n",
       "      <td>2008-09-01</td>\n",
       "      <td>24870</td>\n",
       "    </tr>\n",
       "    <tr>\n",
       "      <th>4</th>\n",
       "      <td>2008-08-01</td>\n",
       "      <td>32</td>\n",
       "    </tr>\n",
       "  </tbody>\n",
       "</table>\n",
       "</div>"
      ],
      "text/plain": [
       "   date_trunc  count\n",
       "0  2008-12-01  17641\n",
       "1  2008-11-01  18294\n",
       "2  2008-10-01  27171\n",
       "3  2008-09-01  24870\n",
       "4  2008-08-01     32"
      ]
     },
     "metadata": {},
     "output_type": "display_data"
    }
   ],
   "source": [
    "display(posts_count)"
   ]
  },
  {
   "cell_type": "markdown",
   "metadata": {
    "id": "MMVIz4yMlKpN"
   },
   "source": [
    "**Вывод**\n",
    "\n",
    "Как видно из таблицы выше, 32 поста принадлежат пользователям, отобранным как зарегистрированные в сентябре, однако сделали они это в августе.\n",
    "Очевидно, присуствует аномалия в данных, имеющая техническую природу. Например, система учла их регистрацию позднее (возможно, требовалось подтверждение создания аккаунта, которое они не направили при написании поста). Или же имел место технический сбой. В любом случае количество обнаруженных выше ошибок несущественно для анализа."
   ]
  },
  {
   "cell_type": "markdown",
   "metadata": {
    "id": "5Pcizm0DDWKz"
   },
   "source": [
    "## Построение таблицы с данными статистики просмотров постов пользователей"
   ]
  },
  {
   "cell_type": "markdown",
   "metadata": {
    "id": "KUZPF6vHDWKz"
   },
   "source": [
    "Используя данные о постах, выведем поля:\n",
    "\n",
    "- идентификатор пользователя, который написал пост;\n",
    "- дата создания поста;\n",
    "- количество просмотров у текущего поста;\n",
    "- сумму просмотров постов автора с накоплением.\n",
    "\n",
    "Данные в таблице отсортируем по возрастанию идентификаторов пользователей, а данные об одном и том же пользователе — по возрастанию даты создания поста."
   ]
  },
  {
   "cell_type": "code",
   "execution_count": 15,
   "metadata": {
    "id": "hDoJhMzfDWK0"
   },
   "outputs": [],
   "source": [
    "query = '''\n",
    "SELECT user_id,\n",
    "       creation_date,\n",
    "       views_count,\n",
    "       SUM(views_count) OVER (PARTITION BY user_id ORDER BY creation_date)\n",
    "FROM stackoverflow.posts\n",
    "ORDER BY user_id, creation_date;\n",
    "'''"
   ]
  },
  {
   "cell_type": "code",
   "execution_count": 16,
   "metadata": {},
   "outputs": [],
   "source": [
    "views_acc = pd.read_sql_query(query, con=engine)"
   ]
  },
  {
   "cell_type": "code",
   "execution_count": 17,
   "metadata": {},
   "outputs": [
    {
     "data": {
      "text/html": [
       "<div>\n",
       "<style scoped>\n",
       "    .dataframe tbody tr th:only-of-type {\n",
       "        vertical-align: middle;\n",
       "    }\n",
       "\n",
       "    .dataframe tbody tr th {\n",
       "        vertical-align: top;\n",
       "    }\n",
       "\n",
       "    .dataframe thead th {\n",
       "        text-align: right;\n",
       "    }\n",
       "</style>\n",
       "<table border=\"1\" class=\"dataframe\">\n",
       "  <thead>\n",
       "    <tr style=\"text-align: right;\">\n",
       "      <th></th>\n",
       "      <th>user_id</th>\n",
       "      <th>creation_date</th>\n",
       "      <th>views_count</th>\n",
       "      <th>sum</th>\n",
       "    </tr>\n",
       "  </thead>\n",
       "  <tbody>\n",
       "    <tr>\n",
       "      <th>0</th>\n",
       "      <td>1</td>\n",
       "      <td>2008-07-31 23:41:00</td>\n",
       "      <td>480476</td>\n",
       "      <td>480476</td>\n",
       "    </tr>\n",
       "    <tr>\n",
       "      <th>1</th>\n",
       "      <td>1</td>\n",
       "      <td>2008-07-31 23:55:38</td>\n",
       "      <td>136033</td>\n",
       "      <td>616509</td>\n",
       "    </tr>\n",
       "    <tr>\n",
       "      <th>2</th>\n",
       "      <td>1</td>\n",
       "      <td>2008-07-31 23:56:41</td>\n",
       "      <td>0</td>\n",
       "      <td>616509</td>\n",
       "    </tr>\n",
       "    <tr>\n",
       "      <th>3</th>\n",
       "      <td>1</td>\n",
       "      <td>2008-08-04 02:45:08</td>\n",
       "      <td>0</td>\n",
       "      <td>616509</td>\n",
       "    </tr>\n",
       "    <tr>\n",
       "      <th>4</th>\n",
       "      <td>1</td>\n",
       "      <td>2008-08-04 04:31:03</td>\n",
       "      <td>0</td>\n",
       "      <td>616509</td>\n",
       "    </tr>\n",
       "    <tr>\n",
       "      <th>...</th>\n",
       "      <td>...</td>\n",
       "      <td>...</td>\n",
       "      <td>...</td>\n",
       "      <td>...</td>\n",
       "    </tr>\n",
       "    <tr>\n",
       "      <th>243791</th>\n",
       "      <td>5696608</td>\n",
       "      <td>2008-12-23 16:00:37</td>\n",
       "      <td>0</td>\n",
       "      <td>2804</td>\n",
       "    </tr>\n",
       "    <tr>\n",
       "      <th>243792</th>\n",
       "      <td>5696608</td>\n",
       "      <td>2008-12-23 17:35:09</td>\n",
       "      <td>0</td>\n",
       "      <td>2804</td>\n",
       "    </tr>\n",
       "    <tr>\n",
       "      <th>243793</th>\n",
       "      <td>5696608</td>\n",
       "      <td>2008-12-24 01:02:48</td>\n",
       "      <td>0</td>\n",
       "      <td>2804</td>\n",
       "    </tr>\n",
       "    <tr>\n",
       "      <th>243794</th>\n",
       "      <td>5696608</td>\n",
       "      <td>2008-12-30 14:34:45</td>\n",
       "      <td>0</td>\n",
       "      <td>2804</td>\n",
       "    </tr>\n",
       "    <tr>\n",
       "      <th>243795</th>\n",
       "      <td>5696608</td>\n",
       "      <td>2008-12-30 16:32:12</td>\n",
       "      <td>0</td>\n",
       "      <td>2804</td>\n",
       "    </tr>\n",
       "  </tbody>\n",
       "</table>\n",
       "<p>243796 rows × 4 columns</p>\n",
       "</div>"
      ],
      "text/plain": [
       "        user_id       creation_date  views_count     sum\n",
       "0             1 2008-07-31 23:41:00       480476  480476\n",
       "1             1 2008-07-31 23:55:38       136033  616509\n",
       "2             1 2008-07-31 23:56:41            0  616509\n",
       "3             1 2008-08-04 02:45:08            0  616509\n",
       "4             1 2008-08-04 04:31:03            0  616509\n",
       "...         ...                 ...          ...     ...\n",
       "243791  5696608 2008-12-23 16:00:37            0    2804\n",
       "243792  5696608 2008-12-23 17:35:09            0    2804\n",
       "243793  5696608 2008-12-24 01:02:48            0    2804\n",
       "243794  5696608 2008-12-30 14:34:45            0    2804\n",
       "243795  5696608 2008-12-30 16:32:12            0    2804\n",
       "\n",
       "[243796 rows x 4 columns]"
      ]
     },
     "metadata": {},
     "output_type": "display_data"
    }
   ],
   "source": [
    "display(views_acc)"
   ]
  },
  {
   "cell_type": "markdown",
   "metadata": {
    "id": "N0kHRHvIDWK2"
   },
   "source": [
    "# Построение таблицы со среднедневным количеством постов активных пользователей в августе 2008"
   ]
  },
  {
   "cell_type": "markdown",
   "metadata": {
    "id": "gBgvmPtODWK2"
   },
   "source": [
    "Найдем среднее количество постов пользователей в день за август 2008 года. Отберем данные о пользователях, которые опубликовали больше 120 постов за август. Дни без публикаций учитывать не будем. \n",
    "\n",
    "Отсортируем результат по возрастанию среднего количества постов."
   ]
  },
  {
   "cell_type": "code",
   "execution_count": 18,
   "metadata": {
    "id": "YFyPNz5GDWK3"
   },
   "outputs": [],
   "source": [
    "query = '''\n",
    "WITH users AS (SELECT  user_id,\n",
    "                       EXTRACT(DAY FROM creation_date::date) AS days,\n",
    "                       COUNT(id) AS cnt_posts\n",
    "               FROM stackoverflow.posts\n",
    "               WHERE user_id IN (SELECT user_id\n",
    "                                 FROM stackoverflow.posts\n",
    "                                 WHERE DATE_TRUNC('month', creation_date):: date = '2008-08-01'\n",
    "                                 GROUP BY user_id\n",
    "                                 HAVING COUNT(user_id) > 120)\n",
    "               AND DATE_TRUNC('month', creation_date):: date = '2008-08-01'\n",
    "               GROUP BY 1, 2)\n",
    "SELECT user_id,\n",
    "       AVG(cnt_posts)\n",
    "FROM users\n",
    "GROUP BY 1\n",
    "ORDER BY 2;\n",
    "'''"
   ]
  },
  {
   "cell_type": "code",
   "execution_count": 19,
   "metadata": {},
   "outputs": [],
   "source": [
    "av_posts = pd.read_sql_query(query, con=engine)"
   ]
  },
  {
   "cell_type": "code",
   "execution_count": 20,
   "metadata": {},
   "outputs": [
    {
     "data": {
      "text/html": [
       "<div>\n",
       "<style scoped>\n",
       "    .dataframe tbody tr th:only-of-type {\n",
       "        vertical-align: middle;\n",
       "    }\n",
       "\n",
       "    .dataframe tbody tr th {\n",
       "        vertical-align: top;\n",
       "    }\n",
       "\n",
       "    .dataframe thead th {\n",
       "        text-align: right;\n",
       "    }\n",
       "</style>\n",
       "<table border=\"1\" class=\"dataframe\">\n",
       "  <thead>\n",
       "    <tr style=\"text-align: right;\">\n",
       "      <th></th>\n",
       "      <th>user_id</th>\n",
       "      <th>avg</th>\n",
       "    </tr>\n",
       "  </thead>\n",
       "  <tbody>\n",
       "    <tr>\n",
       "      <th>0</th>\n",
       "      <td>116</td>\n",
       "      <td>4.777778</td>\n",
       "    </tr>\n",
       "    <tr>\n",
       "      <th>1</th>\n",
       "      <td>234</td>\n",
       "      <td>5.208333</td>\n",
       "    </tr>\n",
       "    <tr>\n",
       "      <th>2</th>\n",
       "      <td>91</td>\n",
       "      <td>5.681818</td>\n",
       "    </tr>\n",
       "    <tr>\n",
       "      <th>3</th>\n",
       "      <td>905</td>\n",
       "      <td>7.000000</td>\n",
       "    </tr>\n",
       "    <tr>\n",
       "      <th>4</th>\n",
       "      <td>383</td>\n",
       "      <td>7.277778</td>\n",
       "    </tr>\n",
       "  </tbody>\n",
       "</table>\n",
       "</div>"
      ],
      "text/plain": [
       "   user_id       avg\n",
       "0      116  4.777778\n",
       "1      234  5.208333\n",
       "2       91  5.681818\n",
       "3      905  7.000000\n",
       "4      383  7.277778"
      ]
     },
     "metadata": {},
     "output_type": "display_data"
    }
   ],
   "source": [
    "display(av_posts)"
   ]
  },
  {
   "cell_type": "markdown",
   "metadata": {
    "id": "EQ0dcFH4DWK5"
   },
   "source": [
    "## Расчет среднего количества дней взаимодействия пользователей в первую неделю декабря"
   ]
  },
  {
   "cell_type": "code",
   "execution_count": 21,
   "metadata": {
    "id": "kZ7LXTr6DWK6"
   },
   "outputs": [],
   "source": [
    "query = '''\n",
    "WITH days AS (SELECT user_id,\n",
    "                     DATE_TRUNC('day', creation_date) AS day\n",
    "              FROM stackoverflow.posts\n",
    "              WHERE creation_date::date BETWEEN '2008-12-01' AND '2008-12-07'\n",
    "              GROUP BY 1, 2),\n",
    "     days_cnt AS (SELECT user_id,\n",
    "                         COUNT(day) AS days\n",
    "                  FROM days\n",
    "                  GROUP BY 1)\n",
    "SELECT ROUND(AVG(days),0)::int AS result\n",
    "FROM days_cnt;\n",
    "'''"
   ]
  },
  {
   "cell_type": "code",
   "execution_count": 22,
   "metadata": {},
   "outputs": [],
   "source": [
    "result = pd.read_sql_query(query, con=engine)"
   ]
  },
  {
   "cell_type": "code",
   "execution_count": 23,
   "metadata": {},
   "outputs": [
    {
     "data": {
      "text/html": [
       "<div>\n",
       "<style scoped>\n",
       "    .dataframe tbody tr th:only-of-type {\n",
       "        vertical-align: middle;\n",
       "    }\n",
       "\n",
       "    .dataframe tbody tr th {\n",
       "        vertical-align: top;\n",
       "    }\n",
       "\n",
       "    .dataframe thead th {\n",
       "        text-align: right;\n",
       "    }\n",
       "</style>\n",
       "<table border=\"1\" class=\"dataframe\">\n",
       "  <thead>\n",
       "    <tr style=\"text-align: right;\">\n",
       "      <th></th>\n",
       "      <th>result</th>\n",
       "    </tr>\n",
       "  </thead>\n",
       "  <tbody>\n",
       "    <tr>\n",
       "      <th>0</th>\n",
       "      <td>2</td>\n",
       "    </tr>\n",
       "  </tbody>\n",
       "</table>\n",
       "</div>"
      ],
      "text/plain": [
       "   result\n",
       "0       2"
      ]
     },
     "metadata": {},
     "output_type": "display_data"
    }
   ],
   "source": [
    "display(result)"
   ]
  },
  {
   "cell_type": "markdown",
   "metadata": {
    "id": "LfUuYz-1DWK8"
   },
   "source": [
    "**Вывод**\n",
    "\n",
    "За первую неделю декабря 2008 года пользователи тратили в среднем лишь 2 дня на активность на платформе. Учитывая приближающиеся новогодние праздники, пользователи могли больше времени проводить оффлайн в поисках подарков и заканчивая дела в уходящем году."
   ]
  },
  {
   "cell_type": "markdown",
   "metadata": {
    "id": "wfOmqmfLDWK8"
   },
   "source": [
    "## Построение таблицы активности публикаций постов пользователей"
   ]
  },
  {
   "cell_type": "markdown",
   "metadata": {
    "id": "X4ARQimADWK9"
   },
   "source": [
    "Выведем историю активности каждого пользователя: идентификатор пользователя, дата публикации поста. Отсортируем вывод по возрастанию идентификаторов пользователей, а для каждого пользователя — по возрастанию даты публикации.\n",
    "\n",
    "Добавим в таблицу новое поле `second_last_month`: для каждого поста в нём будет указано название месяца предпоследней публикации пользователя относительно текущей. Если такой публикации нет, укажите `NULL`."
   ]
  },
  {
   "cell_type": "code",
   "execution_count": 24,
   "metadata": {
    "id": "HzI1vhaMDWK-"
   },
   "outputs": [],
   "source": [
    "query = '''\n",
    "WITH act AS (SELECT user_id,\n",
    "                    creation_date\n",
    "             FROM stackoverflow.posts\n",
    "             ORDER BY 1, 2),\n",
    "lag AS (SELECT *,\n",
    "               LAG(creation_date) OVER (PARTITION BY user_id ORDER BY creation_date) AS lag_1\n",
    "        FROM act),\n",
    "lag2 AS (SELECT user_id,\n",
    "                creation_date,\n",
    "                LAG(lag_1) OVER (PARTITION BY user_id ORDER BY creation_date) AS lag_2\n",
    "         FROM lag)\n",
    "SELECT user_id,\n",
    "       creation_date,\n",
    "       CASE\n",
    "           WHEN DATE_TRUNC('month', lag_2)::date = '2008-01-01' THEN 'January'\n",
    "           WHEN DATE_TRUNC('month', lag_2)::date = '2008-02-01' THEN 'February'\n",
    "           WHEN DATE_TRUNC('month', lag_2)::date = '2008-03-01' THEN 'March'\n",
    "           WHEN DATE_TRUNC('month', lag_2)::date = '2008-04-01' THEN 'April'\n",
    "           WHEN DATE_TRUNC('month', lag_2)::date = '2008-05-01' THEN 'May'\n",
    "           WHEN DATE_TRUNC('month', lag_2)::date = '2008-06-01' THEN 'June'\n",
    "           WHEN DATE_TRUNC('month', lag_2)::date = '2008-07-01' THEN 'July'\n",
    "           WHEN DATE_TRUNC('month', lag_2)::date = '2008-08-01' THEN 'August'\n",
    "           WHEN DATE_TRUNC('month', lag_2)::date = '2008-09-01' THEN 'September'\n",
    "           WHEN DATE_TRUNC('month', lag_2)::date = '2008-10-01' THEN 'October'\n",
    "           WHEN DATE_TRUNC('month', lag_2)::date = '2008-11-01' THEN 'November'\n",
    "           WHEN DATE_TRUNC('month', lag_2)::date = '2008-12-01' THEN 'December'\n",
    "           ELSE NULL\n",
    "       END AS second_last_month\n",
    "FROM lag2;\n",
    "'''"
   ]
  },
  {
   "cell_type": "code",
   "execution_count": 25,
   "metadata": {},
   "outputs": [],
   "source": [
    "activity = pd.read_sql_query(query, con=engine)"
   ]
  },
  {
   "cell_type": "code",
   "execution_count": 26,
   "metadata": {},
   "outputs": [
    {
     "data": {
      "text/html": [
       "<div>\n",
       "<style scoped>\n",
       "    .dataframe tbody tr th:only-of-type {\n",
       "        vertical-align: middle;\n",
       "    }\n",
       "\n",
       "    .dataframe tbody tr th {\n",
       "        vertical-align: top;\n",
       "    }\n",
       "\n",
       "    .dataframe thead th {\n",
       "        text-align: right;\n",
       "    }\n",
       "</style>\n",
       "<table border=\"1\" class=\"dataframe\">\n",
       "  <thead>\n",
       "    <tr style=\"text-align: right;\">\n",
       "      <th></th>\n",
       "      <th>user_id</th>\n",
       "      <th>creation_date</th>\n",
       "      <th>second_last_month</th>\n",
       "    </tr>\n",
       "  </thead>\n",
       "  <tbody>\n",
       "    <tr>\n",
       "      <th>0</th>\n",
       "      <td>1</td>\n",
       "      <td>2008-07-31 23:41:00</td>\n",
       "      <td>None</td>\n",
       "    </tr>\n",
       "    <tr>\n",
       "      <th>1</th>\n",
       "      <td>1</td>\n",
       "      <td>2008-07-31 23:55:38</td>\n",
       "      <td>None</td>\n",
       "    </tr>\n",
       "    <tr>\n",
       "      <th>2</th>\n",
       "      <td>1</td>\n",
       "      <td>2008-07-31 23:56:41</td>\n",
       "      <td>July</td>\n",
       "    </tr>\n",
       "    <tr>\n",
       "      <th>3</th>\n",
       "      <td>1</td>\n",
       "      <td>2008-08-04 02:45:08</td>\n",
       "      <td>July</td>\n",
       "    </tr>\n",
       "    <tr>\n",
       "      <th>4</th>\n",
       "      <td>1</td>\n",
       "      <td>2008-08-04 04:31:03</td>\n",
       "      <td>July</td>\n",
       "    </tr>\n",
       "    <tr>\n",
       "      <th>...</th>\n",
       "      <td>...</td>\n",
       "      <td>...</td>\n",
       "      <td>...</td>\n",
       "    </tr>\n",
       "    <tr>\n",
       "      <th>243791</th>\n",
       "      <td>5696608</td>\n",
       "      <td>2008-12-23 16:00:37</td>\n",
       "      <td>December</td>\n",
       "    </tr>\n",
       "    <tr>\n",
       "      <th>243792</th>\n",
       "      <td>5696608</td>\n",
       "      <td>2008-12-23 17:35:09</td>\n",
       "      <td>December</td>\n",
       "    </tr>\n",
       "    <tr>\n",
       "      <th>243793</th>\n",
       "      <td>5696608</td>\n",
       "      <td>2008-12-24 01:02:48</td>\n",
       "      <td>December</td>\n",
       "    </tr>\n",
       "    <tr>\n",
       "      <th>243794</th>\n",
       "      <td>5696608</td>\n",
       "      <td>2008-12-30 14:34:45</td>\n",
       "      <td>December</td>\n",
       "    </tr>\n",
       "    <tr>\n",
       "      <th>243795</th>\n",
       "      <td>5696608</td>\n",
       "      <td>2008-12-30 16:32:12</td>\n",
       "      <td>December</td>\n",
       "    </tr>\n",
       "  </tbody>\n",
       "</table>\n",
       "<p>243796 rows × 3 columns</p>\n",
       "</div>"
      ],
      "text/plain": [
       "        user_id       creation_date second_last_month\n",
       "0             1 2008-07-31 23:41:00              None\n",
       "1             1 2008-07-31 23:55:38              None\n",
       "2             1 2008-07-31 23:56:41              July\n",
       "3             1 2008-08-04 02:45:08              July\n",
       "4             1 2008-08-04 04:31:03              July\n",
       "...         ...                 ...               ...\n",
       "243791  5696608 2008-12-23 16:00:37          December\n",
       "243792  5696608 2008-12-23 17:35:09          December\n",
       "243793  5696608 2008-12-24 01:02:48          December\n",
       "243794  5696608 2008-12-30 14:34:45          December\n",
       "243795  5696608 2008-12-30 16:32:12          December\n",
       "\n",
       "[243796 rows x 3 columns]"
      ]
     },
     "metadata": {},
     "output_type": "display_data"
    }
   ],
   "source": [
    "display(activity)"
   ]
  },
  {
   "cell_type": "markdown",
   "metadata": {
    "id": "tf9qq2yzDWK_"
   },
   "source": [
    "## Расчет Retention rate по месяцам"
   ]
  },
  {
   "cell_type": "markdown",
   "metadata": {
    "id": "gfwLVXBYDWLA"
   },
   "source": [
    "1. Рассчитаем аналог Retention Rate по месяцам для пользователей StackOverflow. Объединим пользователей в когорты по месяцу их первого поста. Возвращение определим по наличию поста в текущем месяце. "
   ]
  },
  {
   "cell_type": "code",
   "execution_count": 27,
   "metadata": {
    "id": "LUgFmwmTDWLB"
   },
   "outputs": [],
   "source": [
    "query = '''\n",
    "WiTH pr AS (SELECT DISTINCT user_id,\n",
    "                   MIN(DATE_TRUNC('month', creation_date)) OVER \n",
    "                         (PARTITION BY user_id ORDER BY DATE_TRUNC('month', creation_date))\n",
    "                                                                               AS cohort_dt\n",
    "            FROM stackoverflow.posts),\n",
    "profiles AS (SELECT user_id,\n",
    "                    cohort_dt,\n",
    "                    COUNT(*) OVER (PARTITION BY cohort_dt) AS cohort_users_cnt\n",
    "             FROM pr),\n",
    "sessions AS (SELECT user_id,\n",
    "                    DATE_TRUNC('month', creation_date) AS session_date\n",
    "             FROM stackoverflow.posts\n",
    "             GROUP BY 1, 2)\n",
    "SELECT cohort_dt,\n",
    "       session_date,\n",
    "       COUNT(p.user_id) AS users_cnt,\n",
    "       cohort_users_cnt,\n",
    "       ROUND(COUNT(p.user_id) * 100.0 / cohort_users_cnt, 2) AS retention_rate\n",
    "FROM profiles p\n",
    "JOIN sessions s ON p.user_id = s.user_id\n",
    "GROUP BY 1, 2, 4\n",
    "ORDER BY 1, 2;\n",
    "'''"
   ]
  },
  {
   "cell_type": "code",
   "execution_count": 28,
   "metadata": {},
   "outputs": [],
   "source": [
    "retention_rate = pd.read_sql_query(query, con=engine)"
   ]
  },
  {
   "cell_type": "code",
   "execution_count": 29,
   "metadata": {},
   "outputs": [
    {
     "data": {
      "text/html": [
       "<div>\n",
       "<style scoped>\n",
       "    .dataframe tbody tr th:only-of-type {\n",
       "        vertical-align: middle;\n",
       "    }\n",
       "\n",
       "    .dataframe tbody tr th {\n",
       "        vertical-align: top;\n",
       "    }\n",
       "\n",
       "    .dataframe thead th {\n",
       "        text-align: right;\n",
       "    }\n",
       "</style>\n",
       "<table border=\"1\" class=\"dataframe\">\n",
       "  <thead>\n",
       "    <tr style=\"text-align: right;\">\n",
       "      <th></th>\n",
       "      <th>cohort_dt</th>\n",
       "      <th>session_date</th>\n",
       "      <th>users_cnt</th>\n",
       "      <th>cohort_users_cnt</th>\n",
       "      <th>retention_rate</th>\n",
       "    </tr>\n",
       "  </thead>\n",
       "  <tbody>\n",
       "    <tr>\n",
       "      <th>0</th>\n",
       "      <td>2008-07-01</td>\n",
       "      <td>2008-07-01</td>\n",
       "      <td>3</td>\n",
       "      <td>3</td>\n",
       "      <td>100.00</td>\n",
       "    </tr>\n",
       "    <tr>\n",
       "      <th>1</th>\n",
       "      <td>2008-07-01</td>\n",
       "      <td>2008-08-01</td>\n",
       "      <td>2</td>\n",
       "      <td>3</td>\n",
       "      <td>66.67</td>\n",
       "    </tr>\n",
       "    <tr>\n",
       "      <th>2</th>\n",
       "      <td>2008-07-01</td>\n",
       "      <td>2008-09-01</td>\n",
       "      <td>1</td>\n",
       "      <td>3</td>\n",
       "      <td>33.33</td>\n",
       "    </tr>\n",
       "    <tr>\n",
       "      <th>3</th>\n",
       "      <td>2008-07-01</td>\n",
       "      <td>2008-10-01</td>\n",
       "      <td>2</td>\n",
       "      <td>3</td>\n",
       "      <td>66.67</td>\n",
       "    </tr>\n",
       "    <tr>\n",
       "      <th>4</th>\n",
       "      <td>2008-07-01</td>\n",
       "      <td>2008-11-01</td>\n",
       "      <td>1</td>\n",
       "      <td>3</td>\n",
       "      <td>33.33</td>\n",
       "    </tr>\n",
       "    <tr>\n",
       "      <th>5</th>\n",
       "      <td>2008-07-01</td>\n",
       "      <td>2008-12-01</td>\n",
       "      <td>2</td>\n",
       "      <td>3</td>\n",
       "      <td>66.67</td>\n",
       "    </tr>\n",
       "    <tr>\n",
       "      <th>6</th>\n",
       "      <td>2008-08-01</td>\n",
       "      <td>2008-08-01</td>\n",
       "      <td>2151</td>\n",
       "      <td>2151</td>\n",
       "      <td>100.00</td>\n",
       "    </tr>\n",
       "    <tr>\n",
       "      <th>7</th>\n",
       "      <td>2008-08-01</td>\n",
       "      <td>2008-09-01</td>\n",
       "      <td>1571</td>\n",
       "      <td>2151</td>\n",
       "      <td>73.04</td>\n",
       "    </tr>\n",
       "    <tr>\n",
       "      <th>8</th>\n",
       "      <td>2008-08-01</td>\n",
       "      <td>2008-10-01</td>\n",
       "      <td>1275</td>\n",
       "      <td>2151</td>\n",
       "      <td>59.27</td>\n",
       "    </tr>\n",
       "    <tr>\n",
       "      <th>9</th>\n",
       "      <td>2008-08-01</td>\n",
       "      <td>2008-11-01</td>\n",
       "      <td>1050</td>\n",
       "      <td>2151</td>\n",
       "      <td>48.81</td>\n",
       "    </tr>\n",
       "    <tr>\n",
       "      <th>10</th>\n",
       "      <td>2008-08-01</td>\n",
       "      <td>2008-12-01</td>\n",
       "      <td>894</td>\n",
       "      <td>2151</td>\n",
       "      <td>41.56</td>\n",
       "    </tr>\n",
       "    <tr>\n",
       "      <th>11</th>\n",
       "      <td>2008-09-01</td>\n",
       "      <td>2008-09-01</td>\n",
       "      <td>7678</td>\n",
       "      <td>7678</td>\n",
       "      <td>100.00</td>\n",
       "    </tr>\n",
       "    <tr>\n",
       "      <th>12</th>\n",
       "      <td>2008-09-01</td>\n",
       "      <td>2008-10-01</td>\n",
       "      <td>4132</td>\n",
       "      <td>7678</td>\n",
       "      <td>53.82</td>\n",
       "    </tr>\n",
       "    <tr>\n",
       "      <th>13</th>\n",
       "      <td>2008-09-01</td>\n",
       "      <td>2008-11-01</td>\n",
       "      <td>2966</td>\n",
       "      <td>7678</td>\n",
       "      <td>38.63</td>\n",
       "    </tr>\n",
       "    <tr>\n",
       "      <th>14</th>\n",
       "      <td>2008-09-01</td>\n",
       "      <td>2008-12-01</td>\n",
       "      <td>2500</td>\n",
       "      <td>7678</td>\n",
       "      <td>32.56</td>\n",
       "    </tr>\n",
       "    <tr>\n",
       "      <th>15</th>\n",
       "      <td>2008-10-01</td>\n",
       "      <td>2008-10-01</td>\n",
       "      <td>3629</td>\n",
       "      <td>3629</td>\n",
       "      <td>100.00</td>\n",
       "    </tr>\n",
       "    <tr>\n",
       "      <th>16</th>\n",
       "      <td>2008-10-01</td>\n",
       "      <td>2008-11-01</td>\n",
       "      <td>1640</td>\n",
       "      <td>3629</td>\n",
       "      <td>45.19</td>\n",
       "    </tr>\n",
       "    <tr>\n",
       "      <th>17</th>\n",
       "      <td>2008-10-01</td>\n",
       "      <td>2008-12-01</td>\n",
       "      <td>1221</td>\n",
       "      <td>3629</td>\n",
       "      <td>33.65</td>\n",
       "    </tr>\n",
       "    <tr>\n",
       "      <th>18</th>\n",
       "      <td>2008-11-01</td>\n",
       "      <td>2008-11-01</td>\n",
       "      <td>2852</td>\n",
       "      <td>2852</td>\n",
       "      <td>100.00</td>\n",
       "    </tr>\n",
       "    <tr>\n",
       "      <th>19</th>\n",
       "      <td>2008-11-01</td>\n",
       "      <td>2008-12-01</td>\n",
       "      <td>1151</td>\n",
       "      <td>2852</td>\n",
       "      <td>40.36</td>\n",
       "    </tr>\n",
       "    <tr>\n",
       "      <th>20</th>\n",
       "      <td>2008-12-01</td>\n",
       "      <td>2008-12-01</td>\n",
       "      <td>2536</td>\n",
       "      <td>2536</td>\n",
       "      <td>100.00</td>\n",
       "    </tr>\n",
       "  </tbody>\n",
       "</table>\n",
       "</div>"
      ],
      "text/plain": [
       "    cohort_dt session_date  users_cnt  cohort_users_cnt  retention_rate\n",
       "0  2008-07-01   2008-07-01          3                 3          100.00\n",
       "1  2008-07-01   2008-08-01          2                 3           66.67\n",
       "2  2008-07-01   2008-09-01          1                 3           33.33\n",
       "3  2008-07-01   2008-10-01          2                 3           66.67\n",
       "4  2008-07-01   2008-11-01          1                 3           33.33\n",
       "5  2008-07-01   2008-12-01          2                 3           66.67\n",
       "6  2008-08-01   2008-08-01       2151              2151          100.00\n",
       "7  2008-08-01   2008-09-01       1571              2151           73.04\n",
       "8  2008-08-01   2008-10-01       1275              2151           59.27\n",
       "9  2008-08-01   2008-11-01       1050              2151           48.81\n",
       "10 2008-08-01   2008-12-01        894              2151           41.56\n",
       "11 2008-09-01   2008-09-01       7678              7678          100.00\n",
       "12 2008-09-01   2008-10-01       4132              7678           53.82\n",
       "13 2008-09-01   2008-11-01       2966              7678           38.63\n",
       "14 2008-09-01   2008-12-01       2500              7678           32.56\n",
       "15 2008-10-01   2008-10-01       3629              3629          100.00\n",
       "16 2008-10-01   2008-11-01       1640              3629           45.19\n",
       "17 2008-10-01   2008-12-01       1221              3629           33.65\n",
       "18 2008-11-01   2008-11-01       2852              2852          100.00\n",
       "19 2008-11-01   2008-12-01       1151              2852           40.36\n",
       "20 2008-12-01   2008-12-01       2536              2536          100.00"
      ]
     },
     "metadata": {},
     "output_type": "display_data"
    }
   ],
   "source": [
    "display(retention_rate)"
   ]
  },
  {
   "cell_type": "markdown",
   "metadata": {
    "id": "_msBtnb2DWLC"
   },
   "source": [
    "2. Построим тепловую карту Retention Rate."
   ]
  },
  {
   "cell_type": "code",
   "execution_count": 30,
   "metadata": {
    "id": "qAEJc8H1DWLC"
   },
   "outputs": [
    {
     "data": {
      "image/png": "[encoded data removed]",
      "text/plain": [
       "<Figure size 500x500 with 2 Axes>"
      ]
     },
     "metadata": {},
     "output_type": "display_data"
    }
   ],
   "source": [
    "# Строим тепловую карту.\n",
    "# Создаем таблицу.\n",
    "retention = retention_rate.pivot(index='cohort_dt', columns='session_date', values='retention_rate')\n",
    "retention.index = [str(x)[0:10] for x in retention.index]\n",
    "retention.columns = [str(x)[0:10] for x in retention.columns]\n",
    "\n",
    "# Строим хитмэп.\n",
    "plt.figure(figsize=(5, 5))\n",
    "sns.heatmap(retention,\n",
    "           annot=True,\n",
    "           fmt='')\n",
    "plt.title('Тепловая карта коэффициентов удержания (%)')\n",
    "plt.show()"
   ]
  },
  {
   "cell_type": "markdown",
   "metadata": {
    "id": "EgOfIsI4DWLC"
   },
   "source": [
    "**Вывод**\n",
    "\n",
    "В первой когорте коэффициент удержания третьего, а затем и пятого дня показывает неожиданный рост. Данная аномалия может быть связана с технической ошибкой отнесения пользователей к неверной когорте (например, дата их регистрации как пользователей в действительности более поздняя). Мы видели подобную аномалию ранее. В то же время размер первой когорты несущественный (3 человека), а значит - данная выборка не годится для выводов по динамике коэффициента удержания."
   ]
  },
  {
   "cell_type": "markdown",
   "metadata": {
    "id": "1k7oPWt5DWLK"
   },
   "source": [
    "## Анализ динамики ежемесячного количества постов"
   ]
  },
  {
   "cell_type": "markdown",
   "metadata": {
    "id": "ALsYVSyRDWLM"
   },
   "source": [
    "Построим таблицу, демонстрирующую, на сколько процентов менялось количество постов ежемесячно с 1 сентября по 31 декабря 2008 года:\n",
    "\n",
    "- номер месяца;\n",
    "- количество постов за месяц;\n",
    "- процент, который показывает, насколько изменилось количество постов в текущем месяце по сравнению с предыдущим."
   ]
  },
  {
   "cell_type": "code",
   "execution_count": 31,
   "metadata": {
    "id": "Mb5pShStDWLN"
   },
   "outputs": [],
   "source": [
    "query = '''\n",
    "WITH count AS (SELECT EXTRACT(MONTH FROM creation_date::date)::int AS creation_month,\n",
    "                                         COUNT(id) AS posts_count\n",
    "               FROM stackoverflow.posts\n",
    "               WHERE DATE_TRUNC('day', creation_date)::date BETWEEN '2008-09-01' AND \n",
    "                                                                         '2008-12-31'\n",
    "               GROUP BY 1)\n",
    "SELECT *,\n",
    "       ROUND(posts_count*100.0/LAG(posts_count) OVER (ORDER BY creation_month) - 100,2)\n",
    "FROM count;\n",
    "'''"
   ]
  },
  {
   "cell_type": "code",
   "execution_count": 32,
   "metadata": {},
   "outputs": [],
   "source": [
    "dynamic = pd.read_sql_query(query, con=engine)"
   ]
  },
  {
   "cell_type": "code",
   "execution_count": 33,
   "metadata": {},
   "outputs": [
    {
     "data": {
      "text/html": [
       "<div>\n",
       "<style scoped>\n",
       "    .dataframe tbody tr th:only-of-type {\n",
       "        vertical-align: middle;\n",
       "    }\n",
       "\n",
       "    .dataframe tbody tr th {\n",
       "        vertical-align: top;\n",
       "    }\n",
       "\n",
       "    .dataframe thead th {\n",
       "        text-align: right;\n",
       "    }\n",
       "</style>\n",
       "<table border=\"1\" class=\"dataframe\">\n",
       "  <thead>\n",
       "    <tr style=\"text-align: right;\">\n",
       "      <th></th>\n",
       "      <th>creation_month</th>\n",
       "      <th>posts_count</th>\n",
       "      <th>round</th>\n",
       "    </tr>\n",
       "  </thead>\n",
       "  <tbody>\n",
       "    <tr>\n",
       "      <th>0</th>\n",
       "      <td>9</td>\n",
       "      <td>70371</td>\n",
       "      <td>NaN</td>\n",
       "    </tr>\n",
       "    <tr>\n",
       "      <th>1</th>\n",
       "      <td>10</td>\n",
       "      <td>63102</td>\n",
       "      <td>-10.33</td>\n",
       "    </tr>\n",
       "    <tr>\n",
       "      <th>2</th>\n",
       "      <td>11</td>\n",
       "      <td>46975</td>\n",
       "      <td>-25.56</td>\n",
       "    </tr>\n",
       "    <tr>\n",
       "      <th>3</th>\n",
       "      <td>12</td>\n",
       "      <td>44592</td>\n",
       "      <td>-5.07</td>\n",
       "    </tr>\n",
       "  </tbody>\n",
       "</table>\n",
       "</div>"
      ],
      "text/plain": [
       "   creation_month  posts_count  round\n",
       "0               9        70371    NaN\n",
       "1              10        63102 -10.33\n",
       "2              11        46975 -25.56\n",
       "3              12        44592  -5.07"
      ]
     },
     "metadata": {},
     "output_type": "display_data"
    }
   ],
   "source": [
    "display(dynamic)"
   ]
  },
  {
   "cell_type": "markdown",
   "metadata": {
    "id": "9NQE2y_MDWLP"
   },
   "source": [
    "2. Построим круговую диаграмму с количеством постов по месяцам."
   ]
  },
  {
   "cell_type": "code",
   "execution_count": 34,
   "metadata": {
    "id": "377ABjiVDWLP"
   },
   "outputs": [
    {
     "data": {
      "image/png": "[encoded data removed]",
      "text/plain": [
       "<Figure size 640x480 with 1 Axes>"
      ]
     },
     "metadata": {},
     "output_type": "display_data"
    }
   ],
   "source": [
    "# Построим круговую диаграмму с количеством постов по месяцам.\n",
    "\n",
    "labels = 'September', 'October', 'November', 'December'\n",
    "fig, ax = plt.subplots()\n",
    "plt.title('Соотношение количества постов по месяцам')\n",
    "ax.pie(dynamic['posts_count'], labels=labels, autopct='%1.1f%%')\n",
    "plt.show()"
   ]
  },
  {
   "cell_type": "markdown",
   "metadata": {},
   "source": [
    "**Вывод**:\n",
    "\n",
    "Количество опубликованных постов снижается с течением времени. Наибольшая доля постов приходится на сентябрь (31.3%), на декабрь приходится 19.8% всех рассматриваемых публикаций."
   ]
  },
  {
   "cell_type": "markdown",
   "metadata": {
    "id": "uw7qMtafDWLP"
   },
   "source": [
    "## Выгрузка данных взаимодействия с платформой за октябрь самого активного пользователя"
   ]
  },
  {
   "cell_type": "markdown",
   "metadata": {
    "id": "oRBpWKx3DWLQ"
   },
   "source": [
    "Выгрузим данные активности пользователя, который опубликовал больше всего постов за всё время. Выведем данные за октябрь 2008 года в таком виде:\n",
    "\n",
    "- номер недели;\n",
    "- дата и время последнего поста, опубликованного на этой неделе."
   ]
  },
  {
   "cell_type": "code",
   "execution_count": 35,
   "metadata": {
    "id": "r5F5fSkwDWLQ"
   },
   "outputs": [],
   "source": [
    "query = '''\n",
    "WITH u AS (SELECT user_id,\n",
    "                  COUNT (id)\n",
    "              FROM stackoverflow.posts\n",
    "              GROUP BY 1\n",
    "              ORDER BY 2 DESC\n",
    "              LIMIT 1),\n",
    "weeks AS (SELECT EXTRACT(WEEK FROM creation_date::date) AS week_creation,\n",
    "                 creation_date   \n",
    "          FROM stackoverflow.posts p\n",
    "          JOIN u ON u.user_id = p.user_id)\n",
    "SELECT DISTINCT week_creation,\n",
    "       LAST_VALUE(creation_date) OVER (PARTITION BY week_creation)\n",
    "FROM weeks\n",
    "WHERE DATE_TRUNC('day', creation_date)::date BETWEEN '2008-10-01' AND '2008-10-31'\n",
    "ORDER BY 1;\n",
    "'''"
   ]
  },
  {
   "cell_type": "code",
   "execution_count": 36,
   "metadata": {},
   "outputs": [],
   "source": [
    "user = pd.read_sql_query(query, con=engine)"
   ]
  },
  {
   "cell_type": "code",
   "execution_count": 37,
   "metadata": {
    "scrolled": true
   },
   "outputs": [
    {
     "data": {
      "text/html": [
       "<div>\n",
       "<style scoped>\n",
       "    .dataframe tbody tr th:only-of-type {\n",
       "        vertical-align: middle;\n",
       "    }\n",
       "\n",
       "    .dataframe tbody tr th {\n",
       "        vertical-align: top;\n",
       "    }\n",
       "\n",
       "    .dataframe thead th {\n",
       "        text-align: right;\n",
       "    }\n",
       "</style>\n",
       "<table border=\"1\" class=\"dataframe\">\n",
       "  <thead>\n",
       "    <tr style=\"text-align: right;\">\n",
       "      <th></th>\n",
       "      <th>week_creation</th>\n",
       "      <th>last_value</th>\n",
       "    </tr>\n",
       "  </thead>\n",
       "  <tbody>\n",
       "    <tr>\n",
       "      <th>0</th>\n",
       "      <td>40.0</td>\n",
       "      <td>2008-10-05 09:00:58</td>\n",
       "    </tr>\n",
       "    <tr>\n",
       "      <th>1</th>\n",
       "      <td>41.0</td>\n",
       "      <td>2008-10-12 21:22:23</td>\n",
       "    </tr>\n",
       "    <tr>\n",
       "      <th>2</th>\n",
       "      <td>42.0</td>\n",
       "      <td>2008-10-19 06:49:30</td>\n",
       "    </tr>\n",
       "    <tr>\n",
       "      <th>3</th>\n",
       "      <td>43.0</td>\n",
       "      <td>2008-10-26 21:44:36</td>\n",
       "    </tr>\n",
       "    <tr>\n",
       "      <th>4</th>\n",
       "      <td>44.0</td>\n",
       "      <td>2008-10-31 20:22:25</td>\n",
       "    </tr>\n",
       "  </tbody>\n",
       "</table>\n",
       "</div>"
      ],
      "text/plain": [
       "   week_creation          last_value\n",
       "0           40.0 2008-10-05 09:00:58\n",
       "1           41.0 2008-10-12 21:22:23\n",
       "2           42.0 2008-10-19 06:49:30\n",
       "3           43.0 2008-10-26 21:44:36\n",
       "4           44.0 2008-10-31 20:22:25"
      ]
     },
     "metadata": {},
     "output_type": "display_data"
    }
   ],
   "source": [
    "display(user)"
   ]
  },
  {
   "cell_type": "markdown",
   "metadata": {},
   "source": [
    "## Выводы"
   ]
  },
  {
   "cell_type": "markdown",
   "metadata": {},
   "source": [
    "Мы написали ряд запросов к базе данных StackOverflow с целью демонстрации выгрузки заданных таблиц, анализа, поиска аномалий в данных. Результаты позволили сделать нам следующие выводы:\n",
    "\n",
    "- Наибольшее количество просмотров постов приходится на сентябрь, постепенно снижаясь к декабрю. Вероятно, пользователи платформы - молодые люди, чье начало учебного года приходится на сентябрь, что означает взлет коммуникаций по различным учебным вопросам. Кроме того, минимальное количество приходится на летние месяцы июль и август, что также может быть связано с отпусками и снижением активности в Интернете. К декабрю просмотры падают - идет подготовка к праздникам.\n",
    "\n",
    "- Количество опубликованных постов снижается с течением времени. Наибольшая доля постов приходится на сентябрь (31.3%), на декабрь приходится 19.8% всех рассматриваемых публикаций.\n",
    "\n",
    "- За первую неделю декабря 2008 года пользователи тратили в среднем лишь 2 дня на активность на платформе. Учитывая приближающиеся новогодние праздники, пользователи могли больше времени проводить оффлайн, заканчивая дела в уходящем году.\n",
    "\n",
    "- Если говорить об аномалиях, то несколько постов (32) принадлежат пользователям, зарегистрированным в сентябре, однако написали посты они в августе. Очевидно, присутствует аномалия в данных, имеющая техническую природу. Количество обнаруженных выше ошибок несущественно для анализа.\n",
    "\n",
    "- Что касается имен пользователей, то такие, как Brian, Alan, Chris и другие, являются частоупотребимыми и не могут служить подходящим вариантов для идентикации уникальных пользователей, в отличие от id пользователей.\n",
    "\n",
    "- По итогам расчета месячных коэффициентов удержания, в первой когорте коэффициент третьего, а затем и пятого дня показывает неожиданный рост. Данная аномалия может быть связана с технической ошибкой отнесения пользователей к неверной когорте (например, дата их регистрации как пользователей в действительности более поздняя). Мы видели подобную аномалию ранее. В то же время, размер первой когорты несущественный (3 человека), а значит - данная выборка не годится для выводов по динамике коэффициента удержания."
   ]
  }
 ],
 "metadata": {
  "ExecuteTimeLog": [
   {
    "duration": 8,
    "start_time": "2023-04-12T00:51:52.826Z"
   },
   {
    "duration": 46,
    "start_time": "2023-04-12T00:51:56.267Z"
   },
   {
    "duration": 979,
    "start_time": "2023-04-12T00:52:24.317Z"
   },
   {
    "duration": 866,
    "start_time": "2023-04-12T00:53:01.821Z"
   },
   {
    "duration": 4,
    "start_time": "2023-04-12T00:53:02.689Z"
   },
   {
    "duration": 10490,
    "start_time": "2023-04-12T00:53:02.694Z"
   },
   {
    "duration": 296,
    "start_time": "2023-04-12T00:53:13.186Z"
   },
   {
    "duration": 19,
    "start_time": "2023-04-12T00:53:13.484Z"
   },
   {
    "duration": 2,
    "start_time": "2023-04-12T00:53:13.505Z"
   },
   {
    "duration": 7,
    "start_time": "2023-04-12T00:53:13.509Z"
   },
   {
    "duration": 5,
    "start_time": "2023-04-12T00:53:13.517Z"
   },
   {
    "duration": 4,
    "start_time": "2023-04-12T00:53:13.524Z"
   },
   {
    "duration": 4,
    "start_time": "2023-04-12T00:53:13.531Z"
   },
   {
    "duration": 37,
    "start_time": "2023-04-12T00:53:13.537Z"
   },
   {
    "duration": 17,
    "start_time": "2023-04-12T00:53:13.576Z"
   },
   {
    "duration": 9,
    "start_time": "2023-04-12T00:53:13.594Z"
   },
   {
    "duration": 5,
    "start_time": "2023-04-12T00:53:13.604Z"
   },
   {
    "duration": 14,
    "start_time": "2023-04-12T00:53:13.611Z"
   },
   {
    "duration": 7,
    "start_time": "2023-04-12T00:53:13.626Z"
   },
   {
    "duration": 42,
    "start_time": "2023-04-12T00:53:13.634Z"
   },
   {
    "duration": 11,
    "start_time": "2023-04-12T00:53:13.677Z"
   },
   {
    "duration": 8,
    "start_time": "2023-04-12T00:53:13.689Z"
   },
   {
    "duration": 28,
    "start_time": "2023-04-12T00:53:13.698Z"
   },
   {
    "duration": 41,
    "start_time": "2023-04-12T00:53:13.728Z"
   },
   {
    "duration": 6,
    "start_time": "2023-04-12T00:53:13.771Z"
   },
   {
    "duration": 2,
    "start_time": "2023-04-12T00:59:35.759Z"
   },
   {
    "duration": 244,
    "start_time": "2023-04-12T00:59:37.952Z"
   },
   {
    "duration": 2,
    "start_time": "2023-04-12T01:00:15.117Z"
   },
   {
    "duration": 156,
    "start_time": "2023-04-12T01:00:16.323Z"
   },
   {
    "duration": 2,
    "start_time": "2023-04-12T01:00:42.086Z"
   },
   {
    "duration": 80,
    "start_time": "2023-04-12T01:00:42.993Z"
   },
   {
    "duration": 4,
    "start_time": "2023-04-12T01:00:44.616Z"
   },
   {
    "duration": 10,
    "start_time": "2023-04-12T01:01:10.231Z"
   },
   {
    "duration": 4,
    "start_time": "2023-04-12T01:01:22.910Z"
   },
   {
    "duration": 157,
    "start_time": "2023-04-12T01:01:23.835Z"
   },
   {
    "duration": 7,
    "start_time": "2023-04-12T01:01:24.849Z"
   },
   {
    "duration": 5,
    "start_time": "2023-04-12T01:01:37.890Z"
   },
   {
    "duration": 3,
    "start_time": "2023-04-12T01:02:42.780Z"
   },
   {
    "duration": 131,
    "start_time": "2023-04-12T01:02:43.624Z"
   },
   {
    "duration": 5,
    "start_time": "2023-04-12T01:02:44.354Z"
   },
   {
    "duration": 5,
    "start_time": "2023-04-12T01:02:51.887Z"
   },
   {
    "duration": 5,
    "start_time": "2023-04-12T01:02:57.972Z"
   },
   {
    "duration": 2,
    "start_time": "2023-04-12T01:03:42.476Z"
   },
   {
    "duration": 110,
    "start_time": "2023-04-12T01:03:43.362Z"
   },
   {
    "duration": 5,
    "start_time": "2023-04-12T01:03:44.264Z"
   },
   {
    "duration": 14,
    "start_time": "2023-04-12T01:03:52.441Z"
   },
   {
    "duration": 100,
    "start_time": "2023-04-12T01:03:53.314Z"
   },
   {
    "duration": 4,
    "start_time": "2023-04-12T01:03:54.171Z"
   },
   {
    "duration": 2,
    "start_time": "2023-04-12T01:04:20.100Z"
   },
   {
    "duration": 96,
    "start_time": "2023-04-12T01:04:21.068Z"
   },
   {
    "duration": 4,
    "start_time": "2023-04-12T01:04:21.967Z"
   },
   {
    "duration": 3,
    "start_time": "2023-04-12T01:04:41.302Z"
   },
   {
    "duration": 87,
    "start_time": "2023-04-12T01:04:42.188Z"
   },
   {
    "duration": 3,
    "start_time": "2023-04-12T01:04:43.014Z"
   },
   {
    "duration": 2,
    "start_time": "2023-04-12T01:04:49.361Z"
   },
   {
    "duration": 81,
    "start_time": "2023-04-12T01:04:50.428Z"
   },
   {
    "duration": 3,
    "start_time": "2023-04-12T01:04:51.161Z"
   },
   {
    "duration": 4,
    "start_time": "2023-04-12T01:04:54.660Z"
   },
   {
    "duration": 98,
    "start_time": "2023-04-12T01:04:56.512Z"
   },
   {
    "duration": 4,
    "start_time": "2023-04-12T01:04:57.474Z"
   },
   {
    "duration": 3,
    "start_time": "2023-04-12T01:13:23.978Z"
   },
   {
    "duration": 168,
    "start_time": "2023-04-12T01:13:24.812Z"
   },
   {
    "duration": 2,
    "start_time": "2023-04-12T01:13:47.723Z"
   },
   {
    "duration": 161,
    "start_time": "2023-04-12T01:13:48.460Z"
   },
   {
    "duration": 3,
    "start_time": "2023-04-12T01:13:57.825Z"
   },
   {
    "duration": 370,
    "start_time": "2023-04-12T01:14:00.117Z"
   },
   {
    "duration": 5,
    "start_time": "2023-04-12T01:14:01.290Z"
   },
   {
    "duration": 3,
    "start_time": "2023-04-12T01:15:53.662Z"
   },
   {
    "duration": 281,
    "start_time": "2023-04-12T01:15:54.603Z"
   },
   {
    "duration": 5,
    "start_time": "2023-04-12T01:15:55.719Z"
   },
   {
    "duration": 3,
    "start_time": "2023-04-12T01:16:44.283Z"
   },
   {
    "duration": 196,
    "start_time": "2023-04-12T01:16:45.961Z"
   },
   {
    "duration": 2,
    "start_time": "2023-04-12T01:17:09.492Z"
   },
   {
    "duration": 188,
    "start_time": "2023-04-12T01:17:10.171Z"
   },
   {
    "duration": 4,
    "start_time": "2023-04-12T01:17:11.072Z"
   },
   {
    "duration": 2,
    "start_time": "2023-04-12T01:17:39.563Z"
   },
   {
    "duration": 150,
    "start_time": "2023-04-12T01:17:40.487Z"
   },
   {
    "duration": 4,
    "start_time": "2023-04-12T01:17:41.318Z"
   },
   {
    "duration": 2,
    "start_time": "2023-04-12T01:18:11.174Z"
   },
   {
    "duration": 164,
    "start_time": "2023-04-12T01:18:11.927Z"
   },
   {
    "duration": 5,
    "start_time": "2023-04-12T01:18:12.758Z"
   },
   {
    "duration": 3,
    "start_time": "2023-04-12T01:20:57.385Z"
   },
   {
    "duration": 148,
    "start_time": "2023-04-12T01:20:59.567Z"
   },
   {
    "duration": 5,
    "start_time": "2023-04-12T01:21:00.588Z"
   },
   {
    "duration": 923,
    "start_time": "2023-04-13T09:32:56.760Z"
   },
   {
    "duration": 4,
    "start_time": "2023-04-13T09:32:57.685Z"
   },
   {
    "duration": 5782,
    "start_time": "2023-04-13T09:32:57.690Z"
   },
   {
    "duration": 80,
    "start_time": "2023-04-13T09:33:03.475Z"
   },
   {
    "duration": 15,
    "start_time": "2023-04-13T09:33:03.557Z"
   },
   {
    "duration": 3,
    "start_time": "2023-04-13T09:33:03.573Z"
   },
   {
    "duration": 71,
    "start_time": "2023-04-13T09:33:03.577Z"
   },
   {
    "duration": 6,
    "start_time": "2023-04-13T09:33:03.650Z"
   },
   {
    "duration": 19,
    "start_time": "2023-04-13T09:33:03.658Z"
   },
   {
    "duration": 11,
    "start_time": "2023-04-13T09:33:03.680Z"
   },
   {
    "duration": 123,
    "start_time": "2023-04-13T09:33:03.693Z"
   },
   {
    "duration": 9,
    "start_time": "2023-04-13T09:33:03.823Z"
   },
   {
    "duration": 47,
    "start_time": "2023-04-13T09:33:03.833Z"
   },
   {
    "duration": 0,
    "start_time": "2023-04-13T09:33:03.881Z"
   },
   {
    "duration": 0,
    "start_time": "2023-04-13T09:33:03.882Z"
   },
   {
    "duration": 0,
    "start_time": "2023-04-13T09:33:03.884Z"
   },
   {
    "duration": 0,
    "start_time": "2023-04-13T09:33:03.885Z"
   },
   {
    "duration": 0,
    "start_time": "2023-04-13T09:33:03.886Z"
   },
   {
    "duration": 0,
    "start_time": "2023-04-13T09:33:03.888Z"
   },
   {
    "duration": 0,
    "start_time": "2023-04-13T09:33:03.889Z"
   },
   {
    "duration": 0,
    "start_time": "2023-04-13T09:33:03.891Z"
   },
   {
    "duration": 0,
    "start_time": "2023-04-13T09:33:03.892Z"
   },
   {
    "duration": 0,
    "start_time": "2023-04-13T09:33:03.893Z"
   },
   {
    "duration": 0,
    "start_time": "2023-04-13T09:33:03.894Z"
   },
   {
    "duration": 0,
    "start_time": "2023-04-13T09:33:03.895Z"
   },
   {
    "duration": 0,
    "start_time": "2023-04-13T09:33:03.896Z"
   },
   {
    "duration": 0,
    "start_time": "2023-04-13T09:33:03.897Z"
   },
   {
    "duration": 0,
    "start_time": "2023-04-13T09:33:03.898Z"
   },
   {
    "duration": 3,
    "start_time": "2023-04-13T09:33:29.807Z"
   },
   {
    "duration": 182,
    "start_time": "2023-04-13T09:33:36.033Z"
   },
   {
    "duration": 3,
    "start_time": "2023-04-13T09:33:48.493Z"
   },
   {
    "duration": 88,
    "start_time": "2023-04-13T09:33:50.062Z"
   },
   {
    "duration": 2,
    "start_time": "2023-04-13T09:34:23.801Z"
   },
   {
    "duration": 68,
    "start_time": "2023-04-13T09:34:24.340Z"
   },
   {
    "duration": 3,
    "start_time": "2023-04-13T09:34:39.670Z"
   },
   {
    "duration": 71,
    "start_time": "2023-04-13T09:34:40.641Z"
   },
   {
    "duration": 2,
    "start_time": "2023-04-13T09:34:55.204Z"
   },
   {
    "duration": 70,
    "start_time": "2023-04-13T09:34:56.205Z"
   },
   {
    "duration": 4,
    "start_time": "2023-04-13T09:34:57.677Z"
   },
   {
    "duration": 3,
    "start_time": "2023-04-13T09:37:24.741Z"
   },
   {
    "duration": 87,
    "start_time": "2023-04-13T09:37:25.706Z"
   },
   {
    "duration": 2,
    "start_time": "2023-04-13T09:37:40.774Z"
   },
   {
    "duration": 70,
    "start_time": "2023-04-13T09:37:41.472Z"
   },
   {
    "duration": 4,
    "start_time": "2023-04-13T09:37:42.307Z"
   },
   {
    "duration": 6,
    "start_time": "2023-04-13T09:46:56.677Z"
   },
   {
    "duration": 157,
    "start_time": "2023-04-13T09:46:57.544Z"
   },
   {
    "duration": 6,
    "start_time": "2023-04-13T09:46:59.346Z"
   },
   {
    "duration": 51,
    "start_time": "2023-04-13T09:48:21.148Z"
   },
   {
    "duration": 3,
    "start_time": "2023-04-13T09:48:31.347Z"
   },
   {
    "duration": 4,
    "start_time": "2023-04-13T09:49:59.943Z"
   },
   {
    "duration": 134,
    "start_time": "2023-04-13T09:50:01.236Z"
   },
   {
    "duration": 5,
    "start_time": "2023-04-13T09:50:02.342Z"
   },
   {
    "duration": 3,
    "start_time": "2023-04-13T09:53:08.600Z"
   },
   {
    "duration": 88,
    "start_time": "2023-04-13T09:53:09.492Z"
   },
   {
    "duration": 3,
    "start_time": "2023-04-13T09:53:22.039Z"
   },
   {
    "duration": 1398,
    "start_time": "2023-04-13T09:53:22.810Z"
   },
   {
    "duration": 16,
    "start_time": "2023-04-13T09:53:25.610Z"
   },
   {
    "duration": 3,
    "start_time": "2023-04-13T09:53:33.138Z"
   },
   {
    "duration": 3,
    "start_time": "2023-04-13T09:53:39.507Z"
   },
   {
    "duration": 1202,
    "start_time": "2023-04-13T09:53:40.348Z"
   },
   {
    "duration": 7,
    "start_time": "2023-04-13T09:53:42.357Z"
   },
   {
    "duration": 3,
    "start_time": "2023-04-13T09:54:33.335Z"
   },
   {
    "duration": 1133,
    "start_time": "2023-04-13T09:54:34.045Z"
   },
   {
    "duration": 6,
    "start_time": "2023-04-13T09:54:35.180Z"
   },
   {
    "duration": 4,
    "start_time": "2023-04-13T09:55:19.539Z"
   },
   {
    "duration": 1238,
    "start_time": "2023-04-13T09:55:20.716Z"
   },
   {
    "duration": 8,
    "start_time": "2023-04-13T09:55:22.753Z"
   },
   {
    "duration": 3,
    "start_time": "2023-04-13T09:58:14.812Z"
   },
   {
    "duration": 1090,
    "start_time": "2023-04-13T09:58:16.762Z"
   },
   {
    "duration": 6,
    "start_time": "2023-04-13T09:58:18.559Z"
   },
   {
    "duration": 55,
    "start_time": "2023-04-13T09:58:35.306Z"
   },
   {
    "duration": 5,
    "start_time": "2023-04-13T09:58:38.035Z"
   },
   {
    "duration": 5,
    "start_time": "2023-04-13T09:58:47.177Z"
   },
   {
    "duration": 5,
    "start_time": "2023-04-13T09:58:53.191Z"
   },
   {
    "duration": 6,
    "start_time": "2023-04-13T09:58:58.146Z"
   },
   {
    "duration": 7,
    "start_time": "2023-04-13T09:59:03.921Z"
   },
   {
    "duration": 6,
    "start_time": "2023-04-13T09:59:07.861Z"
   },
   {
    "duration": 7,
    "start_time": "2023-04-13T09:59:11.681Z"
   },
   {
    "duration": 9,
    "start_time": "2023-04-13T09:59:19.777Z"
   },
   {
    "duration": 8,
    "start_time": "2023-04-13T09:59:32.762Z"
   },
   {
    "duration": 3,
    "start_time": "2023-04-13T10:06:30.662Z"
   },
   {
    "duration": 72,
    "start_time": "2023-04-13T10:06:31.529Z"
   },
   {
    "duration": 3,
    "start_time": "2023-04-13T10:06:53.387Z"
   },
   {
    "duration": 75,
    "start_time": "2023-04-13T10:06:54.205Z"
   },
   {
    "duration": 4,
    "start_time": "2023-04-13T10:07:49.983Z"
   },
   {
    "duration": 75,
    "start_time": "2023-04-13T10:07:50.844Z"
   },
   {
    "duration": 3,
    "start_time": "2023-04-13T10:08:24.342Z"
   },
   {
    "duration": 85,
    "start_time": "2023-04-13T10:08:25.271Z"
   },
   {
    "duration": 3,
    "start_time": "2023-04-13T10:08:38.252Z"
   },
   {
    "duration": 59,
    "start_time": "2023-04-13T10:08:39.046Z"
   },
   {
    "duration": 3,
    "start_time": "2023-04-13T10:08:50.328Z"
   },
   {
    "duration": 72,
    "start_time": "2023-04-13T10:08:51.357Z"
   },
   {
    "duration": 3,
    "start_time": "2023-04-13T10:09:24.541Z"
   },
   {
    "duration": 35,
    "start_time": "2023-04-13T10:09:25.140Z"
   },
   {
    "duration": 5,
    "start_time": "2023-04-13T10:09:25.984Z"
   },
   {
    "duration": 3,
    "start_time": "2023-04-13T10:11:36.664Z"
   },
   {
    "duration": 73,
    "start_time": "2023-04-13T10:11:37.409Z"
   },
   {
    "duration": 3,
    "start_time": "2023-04-13T10:11:47.147Z"
   },
   {
    "duration": 72,
    "start_time": "2023-04-13T10:11:47.950Z"
   },
   {
    "duration": 2,
    "start_time": "2023-04-13T10:11:59.279Z"
   },
   {
    "duration": 35,
    "start_time": "2023-04-13T10:12:00.035Z"
   },
   {
    "duration": 5,
    "start_time": "2023-04-13T10:12:00.760Z"
   },
   {
    "duration": 3,
    "start_time": "2023-04-13T10:18:14.041Z"
   },
   {
    "duration": 104,
    "start_time": "2023-04-13T10:18:14.888Z"
   },
   {
    "duration": 3,
    "start_time": "2023-04-13T10:18:25.486Z"
   },
   {
    "duration": 73,
    "start_time": "2023-04-13T10:18:26.164Z"
   },
   {
    "duration": 4,
    "start_time": "2023-04-13T10:19:14.545Z"
   },
   {
    "duration": 99,
    "start_time": "2023-04-13T10:19:15.581Z"
   },
   {
    "duration": 2,
    "start_time": "2023-04-13T10:19:31.309Z"
   },
   {
    "duration": 79,
    "start_time": "2023-04-13T10:19:32.266Z"
   },
   {
    "duration": 5,
    "start_time": "2023-04-13T10:19:56.835Z"
   },
   {
    "duration": 2152,
    "start_time": "2023-04-13T10:20:00.014Z"
   },
   {
    "duration": 4,
    "start_time": "2023-04-13T10:20:03.542Z"
   },
   {
    "duration": 6,
    "start_time": "2023-04-13T14:21:43.067Z"
   },
   {
    "duration": 50,
    "start_time": "2023-04-13T14:21:44.570Z"
   },
   {
    "duration": 831,
    "start_time": "2023-04-13T14:21:52.177Z"
   },
   {
    "duration": 3,
    "start_time": "2023-04-13T14:21:53.010Z"
   },
   {
    "duration": 6502,
    "start_time": "2023-04-13T14:21:53.015Z"
   },
   {
    "duration": 65,
    "start_time": "2023-04-13T14:21:59.519Z"
   },
   {
    "duration": 20,
    "start_time": "2023-04-13T14:21:59.586Z"
   },
   {
    "duration": 4,
    "start_time": "2023-04-13T14:21:59.608Z"
   },
   {
    "duration": 76,
    "start_time": "2023-04-13T14:21:59.613Z"
   },
   {
    "duration": 16,
    "start_time": "2023-04-13T14:21:59.691Z"
   },
   {
    "duration": 10,
    "start_time": "2023-04-13T14:21:59.708Z"
   },
   {
    "duration": 6,
    "start_time": "2023-04-13T14:21:59.721Z"
   },
   {
    "duration": 143,
    "start_time": "2023-04-13T14:21:59.728Z"
   },
   {
    "duration": 5,
    "start_time": "2023-04-13T14:21:59.873Z"
   },
   {
    "duration": 7,
    "start_time": "2023-04-13T14:21:59.879Z"
   },
   {
    "duration": 131,
    "start_time": "2023-04-13T14:21:59.887Z"
   },
   {
    "duration": 5,
    "start_time": "2023-04-13T14:22:00.020Z"
   },
   {
    "duration": 9,
    "start_time": "2023-04-13T14:22:00.026Z"
   },
   {
    "duration": 15,
    "start_time": "2023-04-13T14:22:00.037Z"
   },
   {
    "duration": 1186,
    "start_time": "2023-04-13T14:22:00.054Z"
   },
   {
    "duration": 7,
    "start_time": "2023-04-13T14:22:01.242Z"
   },
   {
    "duration": 27,
    "start_time": "2023-04-13T14:22:01.251Z"
   },
   {
    "duration": 75,
    "start_time": "2023-04-13T14:22:01.279Z"
   },
   {
    "duration": 30,
    "start_time": "2023-04-13T14:22:01.355Z"
   },
   {
    "duration": 53,
    "start_time": "2023-04-13T14:22:01.387Z"
   },
   {
    "duration": 24,
    "start_time": "2023-04-13T14:22:01.442Z"
   },
   {
    "duration": 47,
    "start_time": "2023-04-13T14:22:01.468Z"
   },
   {
    "duration": 34,
    "start_time": "2023-04-13T14:22:01.516Z"
   },
   {
    "duration": 27,
    "start_time": "2023-04-13T14:22:01.552Z"
   },
   {
    "duration": 62,
    "start_time": "2023-04-13T14:22:01.582Z"
   },
   {
    "duration": 40,
    "start_time": "2023-04-13T14:22:01.645Z"
   },
   {
    "duration": 34,
    "start_time": "2023-04-13T14:22:01.686Z"
   },
   {
    "duration": 49,
    "start_time": "2023-04-13T14:22:01.722Z"
   },
   {
    "duration": 3,
    "start_time": "2023-04-13T14:23:38.305Z"
   },
   {
    "duration": 139,
    "start_time": "2023-04-13T14:23:39.418Z"
   },
   {
    "duration": 3,
    "start_time": "2023-04-13T14:23:51.774Z"
   },
   {
    "duration": 78,
    "start_time": "2023-04-13T14:23:52.571Z"
   },
   {
    "duration": 3,
    "start_time": "2023-04-13T14:26:41.660Z"
   },
   {
    "duration": 69,
    "start_time": "2023-04-13T14:26:44.101Z"
   },
   {
    "duration": 3,
    "start_time": "2023-04-13T14:27:44.705Z"
   },
   {
    "duration": 73,
    "start_time": "2023-04-13T14:27:46.083Z"
   },
   {
    "duration": 3,
    "start_time": "2023-04-13T14:28:03.510Z"
   },
   {
    "duration": 114,
    "start_time": "2023-04-13T14:28:05.333Z"
   },
   {
    "duration": 7,
    "start_time": "2023-04-13T14:28:06.426Z"
   },
   {
    "duration": 2,
    "start_time": "2023-04-13T14:28:12.671Z"
   },
   {
    "duration": 69,
    "start_time": "2023-04-13T14:28:14.421Z"
   },
   {
    "duration": 3,
    "start_time": "2023-04-13T14:28:59.188Z"
   },
   {
    "duration": 85,
    "start_time": "2023-04-13T14:29:00.119Z"
   },
   {
    "duration": 6,
    "start_time": "2023-04-13T14:29:01.064Z"
   },
   {
    "duration": 4,
    "start_time": "2023-04-13T14:29:28.500Z"
   },
   {
    "duration": 131,
    "start_time": "2023-04-13T14:29:29.282Z"
   },
   {
    "duration": 7,
    "start_time": "2023-04-13T14:29:30.115Z"
   },
   {
    "duration": 3,
    "start_time": "2023-04-13T14:30:10.786Z"
   },
   {
    "duration": 73,
    "start_time": "2023-04-13T14:30:11.667Z"
   },
   {
    "duration": 2,
    "start_time": "2023-04-13T14:30:25.034Z"
   },
   {
    "duration": 117,
    "start_time": "2023-04-13T14:30:25.762Z"
   },
   {
    "duration": 3,
    "start_time": "2023-04-13T14:31:13.101Z"
   },
   {
    "duration": 65,
    "start_time": "2023-04-13T14:31:14.088Z"
   },
   {
    "duration": 5,
    "start_time": "2023-04-13T14:31:28.199Z"
   },
   {
    "duration": 87,
    "start_time": "2023-04-13T14:31:29.172Z"
   },
   {
    "duration": 2,
    "start_time": "2023-04-13T14:32:20.567Z"
   },
   {
    "duration": 93,
    "start_time": "2023-04-13T14:32:21.397Z"
   },
   {
    "duration": 9,
    "start_time": "2023-04-13T14:39:05.497Z"
   },
   {
    "duration": 72,
    "start_time": "2023-04-13T14:39:06.484Z"
   },
   {
    "duration": 3,
    "start_time": "2023-04-13T14:39:43.837Z"
   },
   {
    "duration": 83,
    "start_time": "2023-04-13T14:39:44.689Z"
   },
   {
    "duration": 3,
    "start_time": "2023-04-13T14:40:23.816Z"
   },
   {
    "duration": 92,
    "start_time": "2023-04-13T14:40:24.638Z"
   },
   {
    "duration": 3,
    "start_time": "2023-04-13T14:43:06.512Z"
   },
   {
    "duration": 59,
    "start_time": "2023-04-13T14:43:07.248Z"
   },
   {
    "duration": 7,
    "start_time": "2023-04-13T14:43:08.741Z"
   },
   {
    "duration": 7,
    "start_time": "2023-04-13T14:43:23.395Z"
   },
   {
    "duration": 60,
    "start_time": "2023-04-13T14:43:24.774Z"
   },
   {
    "duration": 5,
    "start_time": "2023-04-13T14:43:25.776Z"
   },
   {
    "duration": 2,
    "start_time": "2023-04-13T14:44:15.447Z"
   },
   {
    "duration": 55,
    "start_time": "2023-04-13T14:44:17.131Z"
   },
   {
    "duration": 7,
    "start_time": "2023-04-13T14:44:17.846Z"
   },
   {
    "duration": 3,
    "start_time": "2023-04-13T14:47:24.535Z"
   },
   {
    "duration": 1636,
    "start_time": "2023-04-13T14:47:27.471Z"
   },
   {
    "duration": 5,
    "start_time": "2023-04-13T14:47:30.653Z"
   },
   {
    "duration": 2,
    "start_time": "2023-04-13T14:56:58.011Z"
   },
   {
    "duration": 39,
    "start_time": "2023-04-13T14:56:59.271Z"
   },
   {
    "duration": 5,
    "start_time": "2023-04-13T14:57:00.176Z"
   },
   {
    "duration": 3,
    "start_time": "2023-04-13T14:57:08.103Z"
   },
   {
    "duration": 67,
    "start_time": "2023-04-13T14:57:08.878Z"
   },
   {
    "duration": 3,
    "start_time": "2023-04-13T14:57:16.413Z"
   },
   {
    "duration": 39,
    "start_time": "2023-04-13T14:57:17.086Z"
   },
   {
    "duration": 6,
    "start_time": "2023-04-13T14:57:17.806Z"
   },
   {
    "duration": 3,
    "start_time": "2023-04-13T14:58:45.943Z"
   },
   {
    "duration": 34,
    "start_time": "2023-04-13T14:58:46.792Z"
   },
   {
    "duration": 5,
    "start_time": "2023-04-13T14:58:47.567Z"
   },
   {
    "duration": 2,
    "start_time": "2023-04-13T15:01:09.235Z"
   },
   {
    "duration": 100,
    "start_time": "2023-04-13T15:01:10.402Z"
   },
   {
    "duration": 2,
    "start_time": "2023-04-13T15:01:21.625Z"
   },
   {
    "duration": 69,
    "start_time": "2023-04-13T15:01:22.279Z"
   },
   {
    "duration": 3,
    "start_time": "2023-04-13T15:01:27.494Z"
   },
   {
    "duration": 73,
    "start_time": "2023-04-13T15:01:28.204Z"
   },
   {
    "duration": 2,
    "start_time": "2023-04-13T15:01:48.707Z"
   },
   {
    "duration": 114,
    "start_time": "2023-04-13T15:01:49.511Z"
   },
   {
    "duration": 3,
    "start_time": "2023-04-13T15:02:07.672Z"
   },
   {
    "duration": 67,
    "start_time": "2023-04-13T15:02:08.447Z"
   },
   {
    "duration": 2,
    "start_time": "2023-04-13T15:02:26.163Z"
   },
   {
    "duration": 69,
    "start_time": "2023-04-13T15:02:26.991Z"
   },
   {
    "duration": 2,
    "start_time": "2023-04-13T15:03:43.023Z"
   },
   {
    "duration": 64,
    "start_time": "2023-04-13T15:03:43.620Z"
   },
   {
    "duration": 5,
    "start_time": "2023-04-13T15:03:45.039Z"
   },
   {
    "duration": 3,
    "start_time": "2023-04-13T15:04:05.037Z"
   },
   {
    "duration": 61,
    "start_time": "2023-04-13T15:04:05.606Z"
   },
   {
    "duration": 3,
    "start_time": "2023-04-13T15:05:41.567Z"
   },
   {
    "duration": 37,
    "start_time": "2023-04-13T15:05:42.355Z"
   },
   {
    "duration": 5,
    "start_time": "2023-04-13T15:05:43.277Z"
   },
   {
    "duration": 2,
    "start_time": "2023-04-13T15:06:12.959Z"
   },
   {
    "duration": 60,
    "start_time": "2023-04-13T15:06:13.909Z"
   },
   {
    "duration": 3,
    "start_time": "2023-04-13T15:06:21.299Z"
   },
   {
    "duration": 63,
    "start_time": "2023-04-13T15:06:21.823Z"
   },
   {
    "duration": 2,
    "start_time": "2023-04-13T15:06:41.966Z"
   },
   {
    "duration": 69,
    "start_time": "2023-04-13T15:06:43.379Z"
   },
   {
    "duration": 3,
    "start_time": "2023-04-13T15:06:48.869Z"
   },
   {
    "duration": 71,
    "start_time": "2023-04-13T15:06:49.449Z"
   },
   {
    "duration": 5,
    "start_time": "2023-04-13T15:06:50.553Z"
   },
   {
    "duration": 2,
    "start_time": "2023-04-13T15:08:40.386Z"
   },
   {
    "duration": 30,
    "start_time": "2023-04-13T15:08:41.204Z"
   },
   {
    "duration": 4,
    "start_time": "2023-04-13T15:08:42.094Z"
   },
   {
    "duration": 2,
    "start_time": "2023-04-13T15:09:20.946Z"
   },
   {
    "duration": 31,
    "start_time": "2023-04-13T15:09:21.607Z"
   },
   {
    "duration": 4,
    "start_time": "2023-04-13T15:09:23.150Z"
   },
   {
    "duration": 2,
    "start_time": "2023-04-13T15:09:59.235Z"
   },
   {
    "duration": 31,
    "start_time": "2023-04-13T15:09:59.860Z"
   },
   {
    "duration": 4,
    "start_time": "2023-04-13T15:10:01.183Z"
   },
   {
    "duration": 3,
    "start_time": "2023-04-13T15:10:09.525Z"
   },
   {
    "duration": 30,
    "start_time": "2023-04-13T15:10:10.159Z"
   },
   {
    "duration": 4,
    "start_time": "2023-04-13T15:10:10.674Z"
   },
   {
    "duration": 2,
    "start_time": "2023-04-13T15:10:16.860Z"
   },
   {
    "duration": 31,
    "start_time": "2023-04-13T15:10:17.468Z"
   },
   {
    "duration": 4,
    "start_time": "2023-04-13T15:10:18.051Z"
   },
   {
    "duration": 2,
    "start_time": "2023-04-13T15:10:32.271Z"
   },
   {
    "duration": 31,
    "start_time": "2023-04-13T15:10:32.793Z"
   },
   {
    "duration": 4,
    "start_time": "2023-04-13T15:10:33.291Z"
   },
   {
    "duration": 668,
    "start_time": "2023-04-13T15:54:46.299Z"
   },
   {
    "duration": 3,
    "start_time": "2023-04-13T15:54:46.969Z"
   },
   {
    "duration": 4954,
    "start_time": "2023-04-13T15:54:46.973Z"
   },
   {
    "duration": 92,
    "start_time": "2023-04-13T15:54:51.929Z"
   },
   {
    "duration": 13,
    "start_time": "2023-04-13T15:54:52.023Z"
   },
   {
    "duration": 28,
    "start_time": "2023-04-13T15:54:52.037Z"
   },
   {
    "duration": 110,
    "start_time": "2023-04-13T15:54:52.067Z"
   },
   {
    "duration": 5,
    "start_time": "2023-04-13T15:54:52.179Z"
   },
   {
    "duration": 24,
    "start_time": "2023-04-13T15:54:52.186Z"
   },
   {
    "duration": 47,
    "start_time": "2023-04-13T15:54:52.213Z"
   },
   {
    "duration": 145,
    "start_time": "2023-04-13T15:54:52.261Z"
   },
   {
    "duration": 5,
    "start_time": "2023-04-13T15:54:52.408Z"
   },
   {
    "duration": 22,
    "start_time": "2023-04-13T15:54:52.414Z"
   },
   {
    "duration": 167,
    "start_time": "2023-04-13T15:54:52.438Z"
   },
   {
    "duration": 4,
    "start_time": "2023-04-13T15:54:52.607Z"
   },
   {
    "duration": 13,
    "start_time": "2023-04-13T15:54:52.613Z"
   },
   {
    "duration": 9,
    "start_time": "2023-04-13T15:54:52.628Z"
   },
   {
    "duration": 1115,
    "start_time": "2023-04-13T15:54:52.638Z"
   },
   {
    "duration": 7,
    "start_time": "2023-04-13T15:54:53.754Z"
   },
   {
    "duration": 8,
    "start_time": "2023-04-13T15:54:53.762Z"
   },
   {
    "duration": 77,
    "start_time": "2023-04-13T15:54:53.771Z"
   },
   {
    "duration": 5,
    "start_time": "2023-04-13T15:54:53.849Z"
   },
   {
    "duration": 4,
    "start_time": "2023-04-13T15:54:53.855Z"
   },
   {
    "duration": 32,
    "start_time": "2023-04-13T15:54:53.861Z"
   },
   {
    "duration": 4,
    "start_time": "2023-04-13T15:54:53.895Z"
   },
   {
    "duration": 14,
    "start_time": "2023-04-13T15:54:53.901Z"
   },
   {
    "duration": 8,
    "start_time": "2023-04-13T15:54:53.916Z"
   },
   {
    "duration": 831,
    "start_time": "2023-04-13T15:54:53.927Z"
   },
   {
    "duration": 7,
    "start_time": "2023-04-13T15:54:54.760Z"
   },
   {
    "duration": 30,
    "start_time": "2023-04-13T15:54:54.768Z"
   },
   {
    "duration": 23,
    "start_time": "2023-04-13T15:54:54.799Z"
   },
   {
    "duration": 4,
    "start_time": "2023-04-13T15:54:54.824Z"
   },
   {
    "duration": 5,
    "start_time": "2023-04-13T15:54:54.829Z"
   },
   {
    "duration": 8,
    "start_time": "2023-04-13T15:54:54.835Z"
   },
   {
    "duration": 21,
    "start_time": "2023-04-13T15:54:54.844Z"
   },
   {
    "duration": 8,
    "start_time": "2023-04-13T15:55:37.953Z"
   },
   {
    "duration": 5,
    "start_time": "2023-04-13T15:55:47.973Z"
   },
   {
    "duration": 6,
    "start_time": "2023-04-13T15:55:56.288Z"
   },
   {
    "duration": 6,
    "start_time": "2023-04-13T15:56:05.153Z"
   },
   {
    "duration": 3,
    "start_time": "2023-04-13T16:04:15.512Z"
   },
   {
    "duration": 131,
    "start_time": "2023-04-13T16:04:20.404Z"
   },
   {
    "duration": 2,
    "start_time": "2023-04-13T16:04:30.330Z"
   },
   {
    "duration": 961,
    "start_time": "2023-04-13T16:04:31.100Z"
   },
   {
    "duration": 6,
    "start_time": "2023-04-13T16:04:32.884Z"
   },
   {
    "duration": 5,
    "start_time": "2023-04-13T16:04:40.528Z"
   },
   {
    "duration": 7,
    "start_time": "2023-04-13T16:04:52.512Z"
   },
   {
    "duration": 7,
    "start_time": "2023-04-13T16:05:03.335Z"
   },
   {
    "duration": 6,
    "start_time": "2023-04-13T16:05:13.920Z"
   },
   {
    "duration": 2,
    "start_time": "2023-04-13T16:06:34.305Z"
   },
   {
    "duration": 63,
    "start_time": "2023-04-13T16:06:36.353Z"
   },
   {
    "duration": 2,
    "start_time": "2023-04-13T16:06:43.063Z"
   },
   {
    "duration": 1108,
    "start_time": "2023-04-13T16:06:43.896Z"
   },
   {
    "duration": 8,
    "start_time": "2023-04-13T16:06:47.575Z"
   },
   {
    "duration": 2,
    "start_time": "2023-04-13T16:07:31.203Z"
   },
   {
    "duration": 985,
    "start_time": "2023-04-13T16:07:31.983Z"
   },
   {
    "duration": 8,
    "start_time": "2023-04-13T16:07:33.791Z"
   },
   {
    "duration": 3,
    "start_time": "2023-04-13T16:09:34.148Z"
   },
   {
    "duration": 64,
    "start_time": "2023-04-13T16:09:37.448Z"
   },
   {
    "duration": 2,
    "start_time": "2023-04-13T16:09:49.753Z"
   },
   {
    "duration": 1074,
    "start_time": "2023-04-13T16:09:50.559Z"
   },
   {
    "duration": 7,
    "start_time": "2023-04-13T16:09:52.804Z"
   },
   {
    "duration": 3,
    "start_time": "2023-04-13T16:11:29.284Z"
   },
   {
    "duration": 1398,
    "start_time": "2023-04-13T16:11:29.825Z"
   },
   {
    "duration": 8,
    "start_time": "2023-04-13T16:11:32.262Z"
   },
   {
    "duration": 6,
    "start_time": "2023-04-13T16:11:44.515Z"
   },
   {
    "duration": 3,
    "start_time": "2023-04-13T16:13:29.370Z"
   },
   {
    "duration": 1188,
    "start_time": "2023-04-13T16:13:31.707Z"
   },
   {
    "duration": 11,
    "start_time": "2023-04-13T16:13:32.898Z"
   },
   {
    "duration": 4,
    "start_time": "2023-04-13T16:14:28.206Z"
   },
   {
    "duration": 63,
    "start_time": "2023-04-13T16:14:29.025Z"
   },
   {
    "duration": 3,
    "start_time": "2023-04-13T16:14:57.929Z"
   },
   {
    "duration": 111,
    "start_time": "2023-04-13T16:15:00.612Z"
   },
   {
    "duration": 2,
    "start_time": "2023-04-13T16:56:20.458Z"
   },
   {
    "duration": 72,
    "start_time": "2023-04-13T16:56:23.513Z"
   },
   {
    "duration": 2,
    "start_time": "2023-04-13T16:56:33.804Z"
   },
   {
    "duration": 1001,
    "start_time": "2023-04-13T16:56:37.257Z"
   },
   {
    "duration": 5,
    "start_time": "2023-04-13T16:56:38.779Z"
   },
   {
    "duration": 4,
    "start_time": "2023-04-13T16:59:24.039Z"
   },
   {
    "duration": 68,
    "start_time": "2023-04-13T16:59:26.388Z"
   },
   {
    "duration": 3,
    "start_time": "2023-04-13T17:00:21.761Z"
   },
   {
    "duration": 67,
    "start_time": "2023-04-13T17:00:23.867Z"
   },
   {
    "duration": 3,
    "start_time": "2023-04-13T17:00:52.868Z"
   },
   {
    "duration": 83,
    "start_time": "2023-04-13T17:00:54.595Z"
   },
   {
    "duration": 2,
    "start_time": "2023-04-13T17:01:43.097Z"
   },
   {
    "duration": 1136,
    "start_time": "2023-04-13T17:01:45.644Z"
   },
   {
    "duration": 6,
    "start_time": "2023-04-13T17:01:51.192Z"
   },
   {
    "duration": 3,
    "start_time": "2023-04-13T17:02:34.421Z"
   },
   {
    "duration": 1195,
    "start_time": "2023-04-13T17:02:40.669Z"
   },
   {
    "duration": 5,
    "start_time": "2023-04-13T17:02:42.155Z"
   },
   {
    "duration": 2,
    "start_time": "2023-04-13T17:04:57.181Z"
   },
   {
    "duration": 91,
    "start_time": "2023-04-13T17:05:00.771Z"
   },
   {
    "duration": 3,
    "start_time": "2023-04-13T17:05:54.254Z"
   },
   {
    "duration": 58,
    "start_time": "2023-04-13T17:05:55.764Z"
   },
   {
    "duration": 2,
    "start_time": "2023-04-13T17:06:11.877Z"
   },
   {
    "duration": 83,
    "start_time": "2023-04-13T17:06:14.981Z"
   },
   {
    "duration": 2,
    "start_time": "2023-04-13T17:07:21.597Z"
   },
   {
    "duration": 76,
    "start_time": "2023-04-13T17:07:23.093Z"
   },
   {
    "duration": 3,
    "start_time": "2023-04-13T17:07:47.969Z"
   },
   {
    "duration": 1042,
    "start_time": "2023-04-13T17:07:51.583Z"
   },
   {
    "duration": 5,
    "start_time": "2023-04-13T17:07:52.627Z"
   },
   {
    "duration": 2,
    "start_time": "2023-04-13T17:11:19.647Z"
   },
   {
    "duration": 1124,
    "start_time": "2023-04-13T17:11:21.117Z"
   },
   {
    "duration": 6,
    "start_time": "2023-04-13T17:11:22.499Z"
   },
   {
    "duration": 7,
    "start_time": "2023-04-13T17:11:57.897Z"
   },
   {
    "duration": 106,
    "start_time": "2023-04-13T17:11:59.964Z"
   },
   {
    "duration": 3,
    "start_time": "2023-04-13T17:12:36.609Z"
   },
   {
    "duration": 70,
    "start_time": "2023-04-13T17:12:39.339Z"
   },
   {
    "duration": 2,
    "start_time": "2023-04-13T17:14:36.707Z"
   },
   {
    "duration": 1472,
    "start_time": "2023-04-13T17:14:38.601Z"
   },
   {
    "duration": 6,
    "start_time": "2023-04-13T17:14:40.260Z"
   },
   {
    "duration": 7,
    "start_time": "2023-04-13T17:14:54.969Z"
   },
   {
    "duration": 2,
    "start_time": "2023-04-13T17:15:25.747Z"
   },
   {
    "duration": 2496,
    "start_time": "2023-04-13T17:15:27.423Z"
   },
   {
    "duration": 6,
    "start_time": "2023-04-13T17:15:30.861Z"
   },
   {
    "duration": 8,
    "start_time": "2023-04-13T17:15:50.859Z"
   },
   {
    "duration": 8,
    "start_time": "2023-04-13T17:15:58.522Z"
   },
   {
    "duration": 7,
    "start_time": "2023-04-13T17:16:18.809Z"
   },
   {
    "duration": 7,
    "start_time": "2023-04-13T17:16:26.983Z"
   },
   {
    "duration": 3,
    "start_time": "2023-04-13T17:19:19.221Z"
   },
   {
    "duration": 1503,
    "start_time": "2023-04-13T17:19:20.910Z"
   },
   {
    "duration": 7,
    "start_time": "2023-04-13T17:19:23.950Z"
   },
   {
    "duration": 3,
    "start_time": "2023-04-13T17:20:21.779Z"
   },
   {
    "duration": 3,
    "start_time": "2023-04-13T17:20:22.105Z"
   },
   {
    "duration": 3,
    "start_time": "2023-04-13T17:21:33.407Z"
   },
   {
    "duration": 2907,
    "start_time": "2023-04-13T17:21:34.863Z"
   },
   {
    "duration": 8,
    "start_time": "2023-04-13T17:21:38.671Z"
   },
   {
    "duration": 4,
    "start_time": "2023-04-13T17:23:24.031Z"
   },
   {
    "duration": 1539,
    "start_time": "2023-04-13T17:23:25.520Z"
   },
   {
    "duration": 9,
    "start_time": "2023-04-13T17:23:28.416Z"
   },
   {
    "duration": 6,
    "start_time": "2023-04-13T17:23:43.722Z"
   },
   {
    "duration": 7,
    "start_time": "2023-04-13T17:23:59.527Z"
   },
   {
    "duration": 2,
    "start_time": "2023-04-13T17:25:02.536Z"
   },
   {
    "duration": 2759,
    "start_time": "2023-04-13T17:25:03.729Z"
   },
   {
    "duration": 8,
    "start_time": "2023-04-13T17:25:08.398Z"
   },
   {
    "duration": 3,
    "start_time": "2023-04-13T17:25:31.214Z"
   },
   {
    "duration": 1871,
    "start_time": "2023-04-13T17:25:32.857Z"
   },
   {
    "duration": 8,
    "start_time": "2023-04-13T17:25:35.620Z"
   },
   {
    "duration": 1025,
    "start_time": "2023-04-14T00:40:26.814Z"
   },
   {
    "duration": 5,
    "start_time": "2023-04-14T00:40:27.841Z"
   },
   {
    "duration": 22105,
    "start_time": "2023-04-14T00:40:27.848Z"
   },
   {
    "duration": 235,
    "start_time": "2023-04-14T00:40:49.955Z"
   },
   {
    "duration": 15,
    "start_time": "2023-04-14T00:40:50.192Z"
   },
   {
    "duration": 4,
    "start_time": "2023-04-14T00:40:50.209Z"
   },
   {
    "duration": 102,
    "start_time": "2023-04-14T00:40:50.215Z"
   },
   {
    "duration": 5,
    "start_time": "2023-04-14T00:40:50.318Z"
   },
   {
    "duration": 5,
    "start_time": "2023-04-14T00:40:50.325Z"
   },
   {
    "duration": 9,
    "start_time": "2023-04-14T00:40:50.333Z"
   },
   {
    "duration": 170,
    "start_time": "2023-04-14T00:40:50.344Z"
   },
   {
    "duration": 4,
    "start_time": "2023-04-14T00:40:50.516Z"
   },
   {
    "duration": 9,
    "start_time": "2023-04-14T00:40:50.522Z"
   },
   {
    "duration": 152,
    "start_time": "2023-04-14T00:40:50.533Z"
   },
   {
    "duration": 6,
    "start_time": "2023-04-14T00:40:50.687Z"
   },
   {
    "duration": 23,
    "start_time": "2023-04-14T00:40:50.694Z"
   },
   {
    "duration": 15,
    "start_time": "2023-04-14T00:40:50.719Z"
   },
   {
    "duration": 1182,
    "start_time": "2023-04-14T00:40:50.736Z"
   },
   {
    "duration": 8,
    "start_time": "2023-04-14T00:40:51.919Z"
   },
   {
    "duration": 6,
    "start_time": "2023-04-14T00:40:51.935Z"
   },
   {
    "duration": 92,
    "start_time": "2023-04-14T00:40:51.943Z"
   },
   {
    "duration": 6,
    "start_time": "2023-04-14T00:40:52.037Z"
   },
   {
    "duration": 11,
    "start_time": "2023-04-14T00:40:52.045Z"
   },
   {
    "duration": 64,
    "start_time": "2023-04-14T00:40:52.057Z"
   },
   {
    "duration": 4,
    "start_time": "2023-04-14T00:40:52.123Z"
   },
   {
    "duration": 17,
    "start_time": "2023-04-14T00:40:52.128Z"
   },
   {
    "duration": 19,
    "start_time": "2023-04-14T00:40:52.147Z"
   },
   {
    "duration": 1550,
    "start_time": "2023-04-14T00:40:52.169Z"
   },
   {
    "duration": 13,
    "start_time": "2023-04-14T00:40:53.720Z"
   },
   {
    "duration": 8,
    "start_time": "2023-04-14T00:40:53.735Z"
   },
   {
    "duration": 18,
    "start_time": "2023-04-14T00:40:53.744Z"
   },
   {
    "duration": 22,
    "start_time": "2023-04-14T00:40:53.763Z"
   },
   {
    "duration": 7,
    "start_time": "2023-04-14T00:40:53.787Z"
   },
   {
    "duration": 7,
    "start_time": "2023-04-14T00:40:53.796Z"
   },
   {
    "duration": 8,
    "start_time": "2023-04-14T00:40:53.805Z"
   },
   {
    "duration": 3,
    "start_time": "2023-04-14T00:47:28.718Z"
   },
   {
    "duration": 280,
    "start_time": "2023-04-14T00:47:29.830Z"
   },
   {
    "duration": 3,
    "start_time": "2023-04-14T00:47:44.522Z"
   },
   {
    "duration": 142,
    "start_time": "2023-04-14T00:47:48.859Z"
   },
   {
    "duration": 6,
    "start_time": "2023-04-14T00:47:50.672Z"
   },
   {
    "duration": 2,
    "start_time": "2023-04-14T00:48:15.567Z"
   },
   {
    "duration": 176,
    "start_time": "2023-04-14T00:48:16.755Z"
   },
   {
    "duration": 9,
    "start_time": "2023-04-14T00:48:17.751Z"
   },
   {
    "duration": 3,
    "start_time": "2023-04-14T00:49:49.628Z"
   },
   {
    "duration": 203,
    "start_time": "2023-04-14T00:49:50.412Z"
   },
   {
    "duration": 8,
    "start_time": "2023-04-14T00:49:51.331Z"
   },
   {
    "duration": 4,
    "start_time": "2023-04-14T00:51:34.011Z"
   },
   {
    "duration": 993,
    "start_time": "2023-04-14T00:51:34.785Z"
   },
   {
    "duration": 7,
    "start_time": "2023-04-14T00:51:38.002Z"
   },
   {
    "duration": 4,
    "start_time": "2023-04-14T00:51:56.916Z"
   },
   {
    "duration": 450,
    "start_time": "2023-04-14T00:51:57.815Z"
   },
   {
    "duration": 6,
    "start_time": "2023-04-14T00:51:59.017Z"
   },
   {
    "duration": 3,
    "start_time": "2023-04-14T00:53:10.255Z"
   },
   {
    "duration": 127,
    "start_time": "2023-04-14T00:53:10.982Z"
   },
   {
    "duration": 2,
    "start_time": "2023-04-14T00:53:27.956Z"
   },
   {
    "duration": 137,
    "start_time": "2023-04-14T00:53:28.835Z"
   },
   {
    "duration": 4,
    "start_time": "2023-04-14T00:54:01.608Z"
   },
   {
    "duration": 188,
    "start_time": "2023-04-14T00:54:02.415Z"
   },
   {
    "duration": 3,
    "start_time": "2023-04-14T00:56:28.305Z"
   },
   {
    "duration": 116,
    "start_time": "2023-04-14T00:56:29.003Z"
   },
   {
    "duration": 4,
    "start_time": "2023-04-14T00:58:24.369Z"
   },
   {
    "duration": 148,
    "start_time": "2023-04-14T00:58:27.581Z"
   },
   {
    "duration": 4,
    "start_time": "2023-04-14T00:58:36.870Z"
   },
   {
    "duration": 140,
    "start_time": "2023-04-14T00:58:37.581Z"
   },
   {
    "duration": 4,
    "start_time": "2023-04-14T00:59:34.085Z"
   },
   {
    "duration": 152,
    "start_time": "2023-04-14T00:59:34.726Z"
   },
   {
    "duration": 3,
    "start_time": "2023-04-14T01:00:12.591Z"
   },
   {
    "duration": 1283,
    "start_time": "2023-04-14T01:00:13.283Z"
   },
   {
    "duration": 8,
    "start_time": "2023-04-14T01:00:15.439Z"
   },
   {
    "duration": 8,
    "start_time": "2023-04-14T01:02:15.665Z"
   },
   {
    "duration": 7,
    "start_time": "2023-04-14T01:02:19.727Z"
   },
   {
    "duration": 2,
    "start_time": "2023-04-14T01:02:46.090Z"
   },
   {
    "duration": 113,
    "start_time": "2023-04-14T01:02:46.865Z"
   },
   {
    "duration": 3,
    "start_time": "2023-04-14T01:03:02.273Z"
   },
   {
    "duration": 1018,
    "start_time": "2023-04-14T01:03:02.868Z"
   },
   {
    "duration": 5,
    "start_time": "2023-04-14T01:03:04.168Z"
   },
   {
    "duration": 7,
    "start_time": "2023-04-14T01:03:16.870Z"
   },
   {
    "duration": 6,
    "start_time": "2023-04-14T01:03:29.164Z"
   },
   {
    "duration": 3,
    "start_time": "2023-04-14T01:04:56.656Z"
   },
   {
    "duration": 142,
    "start_time": "2023-04-14T01:05:00.423Z"
   },
   {
    "duration": 3,
    "start_time": "2023-04-14T01:05:09.319Z"
   },
   {
    "duration": 129,
    "start_time": "2023-04-14T01:05:09.324Z"
   },
   {
    "duration": 4,
    "start_time": "2023-04-14T01:06:05.331Z"
   },
   {
    "duration": 1369,
    "start_time": "2023-04-14T01:06:07.515Z"
   },
   {
    "duration": 7,
    "start_time": "2023-04-14T01:06:10.183Z"
   },
   {
    "duration": 2,
    "start_time": "2023-04-14T01:06:34.761Z"
   },
   {
    "duration": 161,
    "start_time": "2023-04-14T01:06:38.570Z"
   },
   {
    "duration": 3,
    "start_time": "2023-04-14T01:07:35.636Z"
   },
   {
    "duration": 565,
    "start_time": "2023-04-14T01:07:36.808Z"
   },
   {
    "duration": 7,
    "start_time": "2023-04-14T01:07:38.769Z"
   },
   {
    "duration": 3,
    "start_time": "2023-04-14T01:07:57.658Z"
   },
   {
    "duration": 574,
    "start_time": "2023-04-14T01:07:58.480Z"
   },
   {
    "duration": 8,
    "start_time": "2023-04-14T01:08:00.036Z"
   },
   {
    "duration": 2,
    "start_time": "2023-04-14T01:11:34.462Z"
   },
   {
    "duration": 558,
    "start_time": "2023-04-14T01:11:35.221Z"
   },
   {
    "duration": 7,
    "start_time": "2023-04-14T01:11:36.656Z"
   },
   {
    "duration": 2,
    "start_time": "2023-04-14T01:11:46.390Z"
   },
   {
    "duration": 437,
    "start_time": "2023-04-14T01:11:47.172Z"
   },
   {
    "duration": 7,
    "start_time": "2023-04-14T01:11:48.370Z"
   },
   {
    "duration": 2,
    "start_time": "2023-04-14T01:13:01.125Z"
   },
   {
    "duration": 452,
    "start_time": "2023-04-14T01:13:01.777Z"
   },
   {
    "duration": 6,
    "start_time": "2023-04-14T01:13:02.990Z"
   },
   {
    "duration": 3,
    "start_time": "2023-04-14T01:13:58.250Z"
   },
   {
    "duration": 141,
    "start_time": "2023-04-14T01:13:58.777Z"
   },
   {
    "duration": 2,
    "start_time": "2023-04-14T01:14:06.236Z"
   },
   {
    "duration": 120,
    "start_time": "2023-04-14T01:14:06.848Z"
   },
   {
    "duration": 4,
    "start_time": "2023-04-14T01:20:18.076Z"
   },
   {
    "duration": 121,
    "start_time": "2023-04-14T01:20:18.704Z"
   },
   {
    "duration": 2,
    "start_time": "2023-04-14T01:21:33.440Z"
   },
   {
    "duration": 145,
    "start_time": "2023-04-14T01:21:33.988Z"
   },
   {
    "duration": 3,
    "start_time": "2023-04-14T01:21:41.923Z"
   },
   {
    "duration": 682,
    "start_time": "2023-04-14T01:21:42.442Z"
   },
   {
    "duration": 6,
    "start_time": "2023-04-14T01:21:44.045Z"
   },
   {
    "duration": 4,
    "start_time": "2023-04-14T01:22:28.577Z"
   },
   {
    "duration": 149,
    "start_time": "2023-04-14T01:22:29.198Z"
   },
   {
    "duration": 3,
    "start_time": "2023-04-14T01:22:50.677Z"
   },
   {
    "duration": 517,
    "start_time": "2023-04-14T01:22:51.296Z"
   },
   {
    "duration": 5,
    "start_time": "2023-04-14T01:22:53.083Z"
   },
   {
    "duration": 3,
    "start_time": "2023-04-14T01:24:11.060Z"
   },
   {
    "duration": 503,
    "start_time": "2023-04-14T01:24:11.720Z"
   },
   {
    "duration": 7,
    "start_time": "2023-04-14T01:24:12.401Z"
   },
   {
    "duration": 3,
    "start_time": "2023-04-14T01:25:52.370Z"
   },
   {
    "duration": 505,
    "start_time": "2023-04-14T01:25:52.854Z"
   },
   {
    "duration": 6,
    "start_time": "2023-04-14T01:25:54.166Z"
   },
   {
    "duration": 3,
    "start_time": "2023-04-14T01:28:16.110Z"
   },
   {
    "duration": 487,
    "start_time": "2023-04-14T01:28:17.212Z"
   },
   {
    "duration": 6,
    "start_time": "2023-04-14T01:28:18.667Z"
   },
   {
    "duration": 4,
    "start_time": "2023-04-14T01:28:58.770Z"
   },
   {
    "duration": 629,
    "start_time": "2023-04-14T01:29:00.009Z"
   },
   {
    "duration": 7,
    "start_time": "2023-04-14T01:29:01.436Z"
   },
   {
    "duration": 4,
    "start_time": "2023-04-14T01:31:31.012Z"
   },
   {
    "duration": 509,
    "start_time": "2023-04-14T01:31:31.578Z"
   },
   {
    "duration": 6,
    "start_time": "2023-04-14T01:31:33.686Z"
   },
   {
    "duration": 3,
    "start_time": "2023-04-14T01:36:03.751Z"
   },
   {
    "duration": 189,
    "start_time": "2023-04-14T01:36:04.520Z"
   },
   {
    "duration": 3,
    "start_time": "2023-04-14T01:36:19.253Z"
   },
   {
    "duration": 1164,
    "start_time": "2023-04-14T01:36:19.778Z"
   },
   {
    "duration": 6,
    "start_time": "2023-04-14T01:36:21.730Z"
   },
   {
    "duration": 5,
    "start_time": "2023-04-14T01:37:01.905Z"
   },
   {
    "duration": 3,
    "start_time": "2023-04-14T01:38:19.380Z"
   },
   {
    "duration": 131,
    "start_time": "2023-04-14T01:38:20.111Z"
   },
   {
    "duration": 7,
    "start_time": "2023-04-14T01:38:21.023Z"
   },
   {
    "duration": 3,
    "start_time": "2023-04-14T01:39:07.617Z"
   },
   {
    "duration": 97,
    "start_time": "2023-04-14T01:39:08.351Z"
   },
   {
    "duration": 5,
    "start_time": "2023-04-14T01:39:09.258Z"
   },
   {
    "duration": 2,
    "start_time": "2023-04-14T01:39:22.846Z"
   },
   {
    "duration": 97,
    "start_time": "2023-04-14T01:39:23.775Z"
   },
   {
    "duration": 6,
    "start_time": "2023-04-14T01:39:24.584Z"
   },
   {
    "duration": 4,
    "start_time": "2023-04-14T01:41:41.660Z"
   },
   {
    "duration": 129,
    "start_time": "2023-04-14T01:41:42.472Z"
   },
   {
    "duration": 2,
    "start_time": "2023-04-14T01:41:54.469Z"
   },
   {
    "duration": 98,
    "start_time": "2023-04-14T01:41:55.106Z"
   },
   {
    "duration": 7,
    "start_time": "2023-04-14T01:41:55.960Z"
   },
   {
    "duration": 3,
    "start_time": "2023-04-14T01:42:19.869Z"
   },
   {
    "duration": 127,
    "start_time": "2023-04-14T01:42:20.742Z"
   },
   {
    "duration": 2,
    "start_time": "2023-04-14T01:42:50.871Z"
   },
   {
    "duration": 101,
    "start_time": "2023-04-14T01:42:51.562Z"
   },
   {
    "duration": 5,
    "start_time": "2023-04-14T01:42:52.422Z"
   },
   {
    "duration": 3,
    "start_time": "2023-04-14T01:43:14.276Z"
   },
   {
    "duration": 100,
    "start_time": "2023-04-14T01:43:14.933Z"
   },
   {
    "duration": 5,
    "start_time": "2023-04-14T01:43:15.730Z"
   },
   {
    "duration": 3,
    "start_time": "2023-04-14T01:43:52.772Z"
   },
   {
    "duration": 96,
    "start_time": "2023-04-14T01:43:53.461Z"
   },
   {
    "duration": 5,
    "start_time": "2023-04-14T01:43:54.237Z"
   },
   {
    "duration": 6,
    "start_time": "2023-04-14T01:44:20.446Z"
   },
   {
    "duration": 98,
    "start_time": "2023-04-14T01:44:21.075Z"
   },
   {
    "duration": 6,
    "start_time": "2023-04-14T01:44:21.803Z"
   },
   {
    "duration": 3,
    "start_time": "2023-04-14T01:44:35.356Z"
   },
   {
    "duration": 99,
    "start_time": "2023-04-14T01:44:36.030Z"
   },
   {
    "duration": 5,
    "start_time": "2023-04-14T01:44:36.649Z"
   },
   {
    "duration": 2,
    "start_time": "2023-04-14T01:44:47.066Z"
   },
   {
    "duration": 103,
    "start_time": "2023-04-14T01:44:47.632Z"
   },
   {
    "duration": 5,
    "start_time": "2023-04-14T01:44:48.170Z"
   },
   {
    "duration": 2,
    "start_time": "2023-04-14T01:45:04.968Z"
   },
   {
    "duration": 96,
    "start_time": "2023-04-14T01:45:05.669Z"
   },
   {
    "duration": 4,
    "start_time": "2023-04-14T01:45:06.470Z"
   },
   {
    "duration": 2,
    "start_time": "2023-04-14T01:45:24.964Z"
   },
   {
    "duration": 98,
    "start_time": "2023-04-14T01:45:25.625Z"
   },
   {
    "duration": 5,
    "start_time": "2023-04-14T01:45:26.372Z"
   },
   {
    "duration": 2,
    "start_time": "2023-04-14T01:45:45.987Z"
   },
   {
    "duration": 102,
    "start_time": "2023-04-14T01:45:46.816Z"
   },
   {
    "duration": 4,
    "start_time": "2023-04-14T01:45:47.537Z"
   },
   {
    "duration": 5,
    "start_time": "2023-04-14T01:46:04.364Z"
   },
   {
    "duration": 3,
    "start_time": "2023-04-14T01:49:42.158Z"
   },
   {
    "duration": 192,
    "start_time": "2023-04-14T01:49:43.132Z"
   },
   {
    "duration": 3,
    "start_time": "2023-04-14T01:49:58.527Z"
   },
   {
    "duration": 129,
    "start_time": "2023-04-14T01:49:59.171Z"
   },
   {
    "duration": 5,
    "start_time": "2023-04-14T01:50:23.092Z"
   },
   {
    "duration": 147,
    "start_time": "2023-04-14T01:50:24.003Z"
   },
   {
    "duration": 3,
    "start_time": "2023-04-14T01:50:42.179Z"
   },
   {
    "duration": 3,
    "start_time": "2023-04-14T01:50:58.946Z"
   },
   {
    "duration": 171,
    "start_time": "2023-04-14T01:50:59.596Z"
   },
   {
    "duration": 7,
    "start_time": "2023-04-14T01:51:01.048Z"
   },
   {
    "duration": 3,
    "start_time": "2023-04-14T01:51:08.421Z"
   },
   {
    "duration": 210,
    "start_time": "2023-04-14T01:51:08.942Z"
   },
   {
    "duration": 5,
    "start_time": "2023-04-14T01:51:09.808Z"
   },
   {
    "duration": 3,
    "start_time": "2023-04-14T01:51:41.078Z"
   },
   {
    "duration": 172,
    "start_time": "2023-04-14T01:51:41.666Z"
   },
   {
    "duration": 7,
    "start_time": "2023-04-14T01:51:42.245Z"
   },
   {
    "duration": 3,
    "start_time": "2023-04-14T01:51:52.345Z"
   },
   {
    "duration": 222,
    "start_time": "2023-04-14T01:51:52.350Z"
   },
   {
    "duration": 5,
    "start_time": "2023-04-14T01:51:53.020Z"
   },
   {
    "duration": 4,
    "start_time": "2023-04-14T01:51:56.796Z"
   },
   {
    "duration": 179,
    "start_time": "2023-04-14T01:51:57.407Z"
   },
   {
    "duration": 7,
    "start_time": "2023-04-14T01:51:57.949Z"
   },
   {
    "duration": 3,
    "start_time": "2023-04-14T01:54:10.794Z"
   },
   {
    "duration": 227,
    "start_time": "2023-04-14T01:54:11.559Z"
   },
   {
    "duration": 3,
    "start_time": "2023-04-14T01:54:39.369Z"
   },
   {
    "duration": 122,
    "start_time": "2023-04-14T01:54:40.316Z"
   },
   {
    "duration": 3,
    "start_time": "2023-04-14T01:54:59.267Z"
   },
   {
    "duration": 146,
    "start_time": "2023-04-14T01:55:00.085Z"
   },
   {
    "duration": 3,
    "start_time": "2023-04-14T01:55:26.958Z"
   },
   {
    "duration": 210,
    "start_time": "2023-04-14T01:55:27.778Z"
   },
   {
    "duration": 5,
    "start_time": "2023-04-14T01:55:29.040Z"
   },
   {
    "duration": 3,
    "start_time": "2023-04-14T01:55:41.806Z"
   },
   {
    "duration": 127,
    "start_time": "2023-04-14T01:55:42.856Z"
   },
   {
    "duration": 3,
    "start_time": "2023-04-14T01:55:57.725Z"
   },
   {
    "duration": 163,
    "start_time": "2023-04-14T01:55:58.448Z"
   },
   {
    "duration": 3,
    "start_time": "2023-04-14T01:56:17.295Z"
   },
   {
    "duration": 164,
    "start_time": "2023-04-14T01:56:17.896Z"
   },
   {
    "duration": 5,
    "start_time": "2023-04-14T01:56:19.925Z"
   },
   {
    "duration": 3,
    "start_time": "2023-04-14T01:56:42.210Z"
   },
   {
    "duration": 97,
    "start_time": "2023-04-14T01:56:43.013Z"
   },
   {
    "duration": 5,
    "start_time": "2023-04-14T01:56:43.914Z"
   },
   {
    "duration": 3,
    "start_time": "2023-04-14T01:57:19.147Z"
   },
   {
    "duration": 151,
    "start_time": "2023-04-14T01:57:19.905Z"
   },
   {
    "duration": 3,
    "start_time": "2023-04-14T01:57:51.129Z"
   },
   {
    "duration": 124,
    "start_time": "2023-04-14T01:57:51.945Z"
   },
   {
    "duration": 3,
    "start_time": "2023-04-14T01:58:29.884Z"
   },
   {
    "duration": 169,
    "start_time": "2023-04-14T01:58:30.596Z"
   },
   {
    "duration": 3,
    "start_time": "2023-04-14T01:59:00.671Z"
   },
   {
    "duration": 139,
    "start_time": "2023-04-14T01:59:01.539Z"
   },
   {
    "duration": 3,
    "start_time": "2023-04-14T02:01:23.982Z"
   },
   {
    "duration": 81,
    "start_time": "2023-04-14T02:01:24.578Z"
   },
   {
    "duration": 65,
    "start_time": "2023-04-14T02:01:27.460Z"
   },
   {
    "duration": 5,
    "start_time": "2023-04-14T02:01:29.143Z"
   },
   {
    "duration": 3,
    "start_time": "2023-04-14T02:03:35.484Z"
   },
   {
    "duration": 89,
    "start_time": "2023-04-14T02:03:36.807Z"
   },
   {
    "duration": 144,
    "start_time": "2023-04-14T02:03:37.815Z"
   },
   {
    "duration": 10,
    "start_time": "2023-04-14T02:03:39.128Z"
   },
   {
    "duration": 4,
    "start_time": "2023-04-14T02:05:45.484Z"
   },
   {
    "duration": 139,
    "start_time": "2023-04-14T02:05:47.552Z"
   },
   {
    "duration": 7,
    "start_time": "2023-04-14T02:05:48.877Z"
   },
   {
    "duration": 4,
    "start_time": "2023-04-14T02:07:37.435Z"
   },
   {
    "duration": 124,
    "start_time": "2023-04-14T02:07:38.481Z"
   },
   {
    "duration": 6,
    "start_time": "2023-04-14T02:07:39.400Z"
   },
   {
    "duration": 4,
    "start_time": "2023-04-14T02:09:01.669Z"
   },
   {
    "duration": 136,
    "start_time": "2023-04-14T02:09:02.415Z"
   },
   {
    "duration": 10,
    "start_time": "2023-04-14T02:09:03.337Z"
   },
   {
    "duration": 4,
    "start_time": "2023-04-14T02:09:21.955Z"
   },
   {
    "duration": 125,
    "start_time": "2023-04-14T02:09:22.644Z"
   },
   {
    "duration": 6,
    "start_time": "2023-04-14T02:09:23.538Z"
   },
   {
    "duration": 3,
    "start_time": "2023-04-14T02:09:43.067Z"
   },
   {
    "duration": 121,
    "start_time": "2023-04-14T02:09:43.693Z"
   },
   {
    "duration": 5,
    "start_time": "2023-04-14T02:09:44.502Z"
   },
   {
    "duration": 3,
    "start_time": "2023-04-14T02:10:20.345Z"
   },
   {
    "duration": 124,
    "start_time": "2023-04-14T02:10:20.911Z"
   },
   {
    "duration": 4,
    "start_time": "2023-04-14T02:10:21.717Z"
   },
   {
    "duration": 3,
    "start_time": "2023-04-14T02:10:27.967Z"
   },
   {
    "duration": 136,
    "start_time": "2023-04-14T02:10:28.549Z"
   },
   {
    "duration": 7,
    "start_time": "2023-04-14T02:10:29.288Z"
   },
   {
    "duration": 3,
    "start_time": "2023-04-14T02:10:59.356Z"
   },
   {
    "duration": 137,
    "start_time": "2023-04-14T02:11:00.313Z"
   },
   {
    "duration": 7,
    "start_time": "2023-04-14T02:11:01.217Z"
   },
   {
    "duration": 3,
    "start_time": "2023-04-14T02:11:23.092Z"
   },
   {
    "duration": 134,
    "start_time": "2023-04-14T02:11:23.812Z"
   },
   {
    "duration": 6,
    "start_time": "2023-04-14T02:11:24.433Z"
   },
   {
    "duration": 3,
    "start_time": "2023-04-14T02:11:37.199Z"
   },
   {
    "duration": 125,
    "start_time": "2023-04-14T02:11:37.801Z"
   },
   {
    "duration": 5,
    "start_time": "2023-04-14T02:11:38.449Z"
   },
   {
    "duration": 4,
    "start_time": "2023-04-14T02:11:49.164Z"
   },
   {
    "duration": 126,
    "start_time": "2023-04-14T02:11:49.792Z"
   },
   {
    "duration": 5,
    "start_time": "2023-04-14T02:11:50.476Z"
   },
   {
    "duration": 962,
    "start_time": "2023-04-14T08:24:02.359Z"
   },
   {
    "duration": 4,
    "start_time": "2023-04-14T08:24:03.323Z"
   },
   {
    "duration": 10834,
    "start_time": "2023-04-14T08:24:03.329Z"
   },
   {
    "duration": 204,
    "start_time": "2023-04-14T08:24:14.165Z"
   },
   {
    "duration": 14,
    "start_time": "2023-04-14T08:24:14.371Z"
   },
   {
    "duration": 20,
    "start_time": "2023-04-14T08:24:14.387Z"
   },
   {
    "duration": 113,
    "start_time": "2023-04-14T08:24:14.409Z"
   },
   {
    "duration": 5,
    "start_time": "2023-04-14T08:24:14.524Z"
   },
   {
    "duration": 5,
    "start_time": "2023-04-14T08:24:14.531Z"
   },
   {
    "duration": 4,
    "start_time": "2023-04-14T08:24:14.540Z"
   },
   {
    "duration": 156,
    "start_time": "2023-04-14T08:24:14.545Z"
   },
   {
    "duration": 5,
    "start_time": "2023-04-14T08:24:14.703Z"
   },
   {
    "duration": 11,
    "start_time": "2023-04-14T08:24:14.710Z"
   },
   {
    "duration": 157,
    "start_time": "2023-04-14T08:24:14.723Z"
   },
   {
    "duration": 7,
    "start_time": "2023-04-14T08:24:14.882Z"
   },
   {
    "duration": 17,
    "start_time": "2023-04-14T08:24:14.892Z"
   },
   {
    "duration": 17,
    "start_time": "2023-04-14T08:24:14.911Z"
   },
   {
    "duration": 1178,
    "start_time": "2023-04-14T08:24:14.930Z"
   },
   {
    "duration": 8,
    "start_time": "2023-04-14T08:24:16.109Z"
   },
   {
    "duration": 46,
    "start_time": "2023-04-14T08:24:16.119Z"
   },
   {
    "duration": 90,
    "start_time": "2023-04-14T08:24:16.167Z"
   },
   {
    "duration": 4,
    "start_time": "2023-04-14T08:24:16.259Z"
   },
   {
    "duration": 5,
    "start_time": "2023-04-14T08:24:16.265Z"
   },
   {
    "duration": 64,
    "start_time": "2023-04-14T08:24:16.271Z"
   },
   {
    "duration": 4,
    "start_time": "2023-04-14T08:24:16.337Z"
   },
   {
    "duration": 22,
    "start_time": "2023-04-14T08:24:16.343Z"
   },
   {
    "duration": 14,
    "start_time": "2023-04-14T08:24:16.367Z"
   },
   {
    "duration": 1508,
    "start_time": "2023-04-14T08:24:16.384Z"
   },
   {
    "duration": 8,
    "start_time": "2023-04-14T08:24:17.893Z"
   },
   {
    "duration": 27,
    "start_time": "2023-04-14T08:24:17.903Z"
   },
   {
    "duration": 532,
    "start_time": "2023-04-14T08:24:17.932Z"
   },
   {
    "duration": 6,
    "start_time": "2023-04-14T08:24:18.465Z"
   },
   {
    "duration": 19,
    "start_time": "2023-04-14T08:24:18.473Z"
   },
   {
    "duration": 34,
    "start_time": "2023-04-14T08:24:18.494Z"
   },
   {
    "duration": 32,
    "start_time": "2023-04-14T08:24:18.532Z"
   },
   {
    "duration": 121,
    "start_time": "2023-04-14T08:24:18.565Z"
   },
   {
    "duration": 4,
    "start_time": "2023-04-14T08:24:18.688Z"
   },
   {
    "duration": 17,
    "start_time": "2023-04-14T08:24:18.694Z"
   },
   {
    "duration": 39,
    "start_time": "2023-04-14T08:24:18.713Z"
   },
   {
    "duration": 139,
    "start_time": "2023-04-14T08:24:18.754Z"
   },
   {
    "duration": 6,
    "start_time": "2023-04-14T08:24:18.894Z"
   },
   {
    "duration": 7,
    "start_time": "2023-04-14T08:27:08.211Z"
   },
   {
    "duration": 8,
    "start_time": "2023-04-14T08:27:14.941Z"
   },
   {
    "duration": 2,
    "start_time": "2023-04-14T08:27:37.383Z"
   },
   {
    "duration": 849,
    "start_time": "2023-04-14T08:38:10.859Z"
   },
   {
    "duration": 4,
    "start_time": "2023-04-14T08:38:11.710Z"
   },
   {
    "duration": 27407,
    "start_time": "2023-04-14T08:38:11.715Z"
   },
   {
    "duration": 221,
    "start_time": "2023-04-14T08:38:39.124Z"
   },
   {
    "duration": 14,
    "start_time": "2023-04-14T08:38:39.348Z"
   },
   {
    "duration": 19,
    "start_time": "2023-04-14T08:38:39.363Z"
   },
   {
    "duration": 137,
    "start_time": "2023-04-14T08:38:39.384Z"
   },
   {
    "duration": 6,
    "start_time": "2023-04-14T08:38:39.523Z"
   },
   {
    "duration": 24,
    "start_time": "2023-04-14T08:38:39.530Z"
   },
   {
    "duration": 47,
    "start_time": "2023-04-14T08:38:39.556Z"
   },
   {
    "duration": 206,
    "start_time": "2023-04-14T08:38:39.604Z"
   },
   {
    "duration": 6,
    "start_time": "2023-04-14T08:38:39.812Z"
   },
   {
    "duration": 15,
    "start_time": "2023-04-14T08:38:39.821Z"
   },
   {
    "duration": 154,
    "start_time": "2023-04-14T08:38:39.839Z"
   },
   {
    "duration": 5,
    "start_time": "2023-04-14T08:38:39.995Z"
   },
   {
    "duration": 37,
    "start_time": "2023-04-14T08:38:40.001Z"
   },
   {
    "duration": 20,
    "start_time": "2023-04-14T08:38:40.040Z"
   },
   {
    "duration": 1239,
    "start_time": "2023-04-14T08:38:40.062Z"
   },
   {
    "duration": 8,
    "start_time": "2023-04-14T08:38:41.303Z"
   },
   {
    "duration": 28,
    "start_time": "2023-04-14T08:38:41.312Z"
   },
   {
    "duration": 95,
    "start_time": "2023-04-14T08:38:41.342Z"
   },
   {
    "duration": 5,
    "start_time": "2023-04-14T08:38:41.439Z"
   },
   {
    "duration": 24,
    "start_time": "2023-04-14T08:38:41.445Z"
   },
   {
    "duration": 70,
    "start_time": "2023-04-14T08:38:41.470Z"
   },
   {
    "duration": 5,
    "start_time": "2023-04-14T08:38:41.541Z"
   },
   {
    "duration": 11,
    "start_time": "2023-04-14T08:38:41.548Z"
   },
   {
    "duration": 9,
    "start_time": "2023-04-14T08:38:41.561Z"
   },
   {
    "duration": 1517,
    "start_time": "2023-04-14T08:38:41.572Z"
   },
   {
    "duration": 6,
    "start_time": "2023-04-14T08:38:43.091Z"
   },
   {
    "duration": 6,
    "start_time": "2023-04-14T08:38:43.099Z"
   },
   {
    "duration": 512,
    "start_time": "2023-04-14T08:38:43.106Z"
   },
   {
    "duration": 6,
    "start_time": "2023-04-14T08:38:43.620Z"
   },
   {
    "duration": 96,
    "start_time": "2023-04-14T08:38:43.628Z"
   },
   {
    "duration": 0,
    "start_time": "2023-04-14T08:38:43.726Z"
   },
   {
    "duration": 0,
    "start_time": "2023-04-14T08:38:43.727Z"
   },
   {
    "duration": 0,
    "start_time": "2023-04-14T08:38:43.729Z"
   },
   {
    "duration": 0,
    "start_time": "2023-04-14T08:38:43.730Z"
   },
   {
    "duration": 0,
    "start_time": "2023-04-14T08:38:43.733Z"
   },
   {
    "duration": 0,
    "start_time": "2023-04-14T08:38:43.734Z"
   },
   {
    "duration": 0,
    "start_time": "2023-04-14T08:38:43.736Z"
   },
   {
    "duration": 0,
    "start_time": "2023-04-14T08:38:43.738Z"
   },
   {
    "duration": 15,
    "start_time": "2023-04-14T08:39:12.891Z"
   },
   {
    "duration": 1283,
    "start_time": "2023-04-14T08:39:40.037Z"
   },
   {
    "duration": 4,
    "start_time": "2023-04-14T08:39:41.322Z"
   },
   {
    "duration": 41852,
    "start_time": "2023-04-14T08:39:41.327Z"
   },
   {
    "duration": 207,
    "start_time": "2023-04-14T08:40:23.182Z"
   },
   {
    "duration": 15,
    "start_time": "2023-04-14T08:40:23.391Z"
   },
   {
    "duration": 30,
    "start_time": "2023-04-14T08:40:23.407Z"
   },
   {
    "duration": 165,
    "start_time": "2023-04-14T08:40:23.439Z"
   },
   {
    "duration": 5,
    "start_time": "2023-04-14T08:40:23.605Z"
   },
   {
    "duration": 24,
    "start_time": "2023-04-14T08:40:23.611Z"
   },
   {
    "duration": 15,
    "start_time": "2023-04-14T08:40:23.639Z"
   },
   {
    "duration": 203,
    "start_time": "2023-04-14T08:40:23.656Z"
   },
   {
    "duration": 4,
    "start_time": "2023-04-14T08:40:23.861Z"
   },
   {
    "duration": 29,
    "start_time": "2023-04-14T08:40:23.866Z"
   },
   {
    "duration": 188,
    "start_time": "2023-04-14T08:40:23.897Z"
   },
   {
    "duration": 5,
    "start_time": "2023-04-14T08:40:24.087Z"
   },
   {
    "duration": 36,
    "start_time": "2023-04-14T08:40:24.093Z"
   },
   {
    "duration": 37,
    "start_time": "2023-04-14T08:40:24.131Z"
   },
   {
    "duration": 1283,
    "start_time": "2023-04-14T08:40:24.170Z"
   },
   {
    "duration": 7,
    "start_time": "2023-04-14T08:40:25.456Z"
   },
   {
    "duration": 32,
    "start_time": "2023-04-14T08:40:25.465Z"
   },
   {
    "duration": 143,
    "start_time": "2023-04-14T08:40:25.499Z"
   },
   {
    "duration": 5,
    "start_time": "2023-04-14T08:40:25.644Z"
   },
   {
    "duration": 28,
    "start_time": "2023-04-14T08:40:25.651Z"
   },
   {
    "duration": 86,
    "start_time": "2023-04-14T08:40:25.681Z"
   },
   {
    "duration": 5,
    "start_time": "2023-04-14T08:40:25.769Z"
   },
   {
    "duration": 41,
    "start_time": "2023-04-14T08:40:25.776Z"
   },
   {
    "duration": 35,
    "start_time": "2023-04-14T08:40:25.818Z"
   },
   {
    "duration": 1541,
    "start_time": "2023-04-14T08:40:25.857Z"
   },
   {
    "duration": 8,
    "start_time": "2023-04-14T08:40:27.400Z"
   },
   {
    "duration": 52,
    "start_time": "2023-04-14T08:40:27.410Z"
   },
   {
    "duration": 573,
    "start_time": "2023-04-14T08:40:27.464Z"
   },
   {
    "duration": 9,
    "start_time": "2023-04-14T08:40:28.040Z"
   },
   {
    "duration": 495,
    "start_time": "2023-04-14T08:40:28.050Z"
   },
   {
    "duration": 2,
    "start_time": "2023-04-14T08:40:28.547Z"
   },
   {
    "duration": 12,
    "start_time": "2023-04-14T08:40:28.551Z"
   },
   {
    "duration": 130,
    "start_time": "2023-04-14T08:40:28.565Z"
   },
   {
    "duration": 5,
    "start_time": "2023-04-14T08:40:28.696Z"
   },
   {
    "duration": 6,
    "start_time": "2023-04-14T08:40:28.704Z"
   },
   {
    "duration": 7,
    "start_time": "2023-04-14T08:40:28.712Z"
   },
   {
    "duration": 135,
    "start_time": "2023-04-14T08:40:28.720Z"
   },
   {
    "duration": 5,
    "start_time": "2023-04-14T08:40:28.856Z"
   },
   {
    "duration": 405,
    "start_time": "2023-04-14T08:41:12.472Z"
   },
   {
    "duration": 394,
    "start_time": "2023-04-14T08:41:39.324Z"
   },
   {
    "duration": 253,
    "start_time": "2023-04-14T08:47:04.094Z"
   },
   {
    "duration": 63,
    "start_time": "2023-04-14T08:57:06.208Z"
   },
   {
    "duration": 109,
    "start_time": "2023-04-14T08:58:00.133Z"
   },
   {
    "duration": 202,
    "start_time": "2023-04-14T08:58:09.194Z"
   },
   {
    "duration": 76,
    "start_time": "2023-04-14T08:59:01.140Z"
   },
   {
    "duration": 66,
    "start_time": "2023-04-14T08:59:11.172Z"
   },
   {
    "duration": 83,
    "start_time": "2023-04-14T08:59:37.482Z"
   },
   {
    "duration": 295,
    "start_time": "2023-04-14T09:00:16.342Z"
   },
   {
    "duration": 82,
    "start_time": "2023-04-14T09:00:23.570Z"
   },
   {
    "duration": 83,
    "start_time": "2023-04-14T09:04:15.983Z"
   },
   {
    "duration": 69,
    "start_time": "2023-04-14T09:04:44.506Z"
   },
   {
    "duration": 76,
    "start_time": "2023-04-14T09:05:50.581Z"
   },
   {
    "duration": 174,
    "start_time": "2023-04-14T09:06:32.176Z"
   },
   {
    "duration": 83,
    "start_time": "2023-04-14T09:06:47.217Z"
   },
   {
    "duration": 76,
    "start_time": "2023-04-14T09:06:54.983Z"
   },
   {
    "duration": 88,
    "start_time": "2023-04-14T09:07:05.386Z"
   },
   {
    "duration": 84,
    "start_time": "2023-04-14T09:07:23.699Z"
   },
   {
    "duration": 82,
    "start_time": "2023-04-14T09:08:18.183Z"
   },
   {
    "duration": 3,
    "start_time": "2023-04-14T09:11:24.753Z"
   },
   {
    "duration": 61,
    "start_time": "2023-04-14T09:11:25.789Z"
   },
   {
    "duration": 4,
    "start_time": "2023-04-14T09:11:26.548Z"
   },
   {
    "duration": 1287,
    "start_time": "2023-04-14T09:28:10.612Z"
   },
   {
    "duration": 3,
    "start_time": "2023-04-14T09:28:11.901Z"
   },
   {
    "duration": 11494,
    "start_time": "2023-04-14T09:28:11.906Z"
   },
   {
    "duration": 218,
    "start_time": "2023-04-14T09:28:23.402Z"
   },
   {
    "duration": 14,
    "start_time": "2023-04-14T09:28:23.622Z"
   },
   {
    "duration": 3,
    "start_time": "2023-04-14T09:28:23.638Z"
   },
   {
    "duration": 96,
    "start_time": "2023-04-14T09:28:23.642Z"
   },
   {
    "duration": 5,
    "start_time": "2023-04-14T09:28:23.740Z"
   },
   {
    "duration": 6,
    "start_time": "2023-04-14T09:28:23.746Z"
   },
   {
    "duration": 155,
    "start_time": "2023-04-14T09:28:23.754Z"
   },
   {
    "duration": 4,
    "start_time": "2023-04-14T09:28:23.911Z"
   },
   {
    "duration": 59,
    "start_time": "2023-04-14T09:28:23.916Z"
   },
   {
    "duration": 170,
    "start_time": "2023-04-14T09:28:23.977Z"
   },
   {
    "duration": 5,
    "start_time": "2023-04-14T09:28:24.149Z"
   },
   {
    "duration": 13,
    "start_time": "2023-04-14T09:28:24.155Z"
   },
   {
    "duration": 1185,
    "start_time": "2023-04-14T09:28:24.169Z"
   },
   {
    "duration": 7,
    "start_time": "2023-04-14T09:28:25.355Z"
   },
   {
    "duration": 11,
    "start_time": "2023-04-14T09:28:25.364Z"
   },
   {
    "duration": 98,
    "start_time": "2023-04-14T09:28:25.377Z"
   },
   {
    "duration": 5,
    "start_time": "2023-04-14T09:28:25.476Z"
   },
   {
    "duration": 26,
    "start_time": "2023-04-14T09:28:25.483Z"
   },
   {
    "duration": 73,
    "start_time": "2023-04-14T09:28:25.510Z"
   },
   {
    "duration": 4,
    "start_time": "2023-04-14T09:28:25.585Z"
   },
   {
    "duration": 29,
    "start_time": "2023-04-14T09:28:25.590Z"
   },
   {
    "duration": 1591,
    "start_time": "2023-04-14T09:28:25.620Z"
   },
   {
    "duration": 7,
    "start_time": "2023-04-14T09:28:27.212Z"
   },
   {
    "duration": 15,
    "start_time": "2023-04-14T09:28:27.221Z"
   },
   {
    "duration": 515,
    "start_time": "2023-04-14T09:28:27.240Z"
   },
   {
    "duration": 7,
    "start_time": "2023-04-14T09:28:27.757Z"
   },
   {
    "duration": 433,
    "start_time": "2023-04-14T09:28:27.765Z"
   },
   {
    "duration": 3,
    "start_time": "2023-04-14T09:28:28.200Z"
   },
   {
    "duration": 108,
    "start_time": "2023-04-14T09:28:28.204Z"
   },
   {
    "duration": 4,
    "start_time": "2023-04-14T09:28:28.314Z"
   },
   {
    "duration": 103,
    "start_time": "2023-04-14T09:28:28.320Z"
   },
   {
    "duration": 3,
    "start_time": "2023-04-14T09:28:28.424Z"
   },
   {
    "duration": 140,
    "start_time": "2023-04-14T09:28:28.428Z"
   },
   {
    "duration": 5,
    "start_time": "2023-04-14T09:28:28.569Z"
   },
   {
    "duration": 71,
    "start_time": "2023-04-14T11:51:10.509Z"
   },
   {
    "duration": 7,
    "start_time": "2023-04-14T11:51:15.090Z"
   },
   {
    "duration": 1337,
    "start_time": "2023-04-14T11:51:20.160Z"
   },
   {
    "duration": 3,
    "start_time": "2023-04-14T11:51:21.499Z"
   },
   {
    "duration": 11901,
    "start_time": "2023-04-14T11:51:21.504Z"
   },
   {
    "duration": 43,
    "start_time": "2023-04-14T11:51:33.407Z"
   },
   {
    "duration": 18,
    "start_time": "2023-04-14T11:51:33.452Z"
   },
   {
    "duration": 3,
    "start_time": "2023-04-14T11:51:33.472Z"
   },
   {
    "duration": 71,
    "start_time": "2023-04-14T11:51:33.476Z"
   },
   {
    "duration": 4,
    "start_time": "2023-04-14T11:51:33.549Z"
   },
   {
    "duration": 5,
    "start_time": "2023-04-14T11:51:33.555Z"
   },
   {
    "duration": 123,
    "start_time": "2023-04-14T11:51:33.562Z"
   },
   {
    "duration": 5,
    "start_time": "2023-04-14T11:51:33.687Z"
   },
   {
    "duration": 10,
    "start_time": "2023-04-14T11:51:33.694Z"
   },
   {
    "duration": 125,
    "start_time": "2023-04-14T11:51:33.706Z"
   },
   {
    "duration": 5,
    "start_time": "2023-04-14T11:51:33.833Z"
   },
   {
    "duration": 5,
    "start_time": "2023-04-14T11:51:33.840Z"
   },
   {
    "duration": 1103,
    "start_time": "2023-04-14T11:51:33.847Z"
   },
   {
    "duration": 8,
    "start_time": "2023-04-14T11:51:34.952Z"
   },
   {
    "duration": 6,
    "start_time": "2023-04-14T11:51:34.962Z"
   },
   {
    "duration": 74,
    "start_time": "2023-04-14T11:51:34.970Z"
   },
   {
    "duration": 7,
    "start_time": "2023-04-14T11:51:35.046Z"
   },
   {
    "duration": 16,
    "start_time": "2023-04-14T11:51:35.055Z"
   },
   {
    "duration": 37,
    "start_time": "2023-04-14T11:51:35.074Z"
   },
   {
    "duration": 5,
    "start_time": "2023-04-14T11:51:35.113Z"
   },
   {
    "duration": 21,
    "start_time": "2023-04-14T11:51:35.120Z"
   },
   {
    "duration": 1532,
    "start_time": "2023-04-14T11:51:35.143Z"
   },
   {
    "duration": 7,
    "start_time": "2023-04-14T11:51:36.676Z"
   },
   {
    "duration": 17,
    "start_time": "2023-04-14T11:51:36.684Z"
   },
   {
    "duration": 499,
    "start_time": "2023-04-14T11:51:36.704Z"
   },
   {
    "duration": 7,
    "start_time": "2023-04-14T11:51:37.205Z"
   },
   {
    "duration": 417,
    "start_time": "2023-04-14T11:51:37.213Z"
   },
   {
    "duration": 3,
    "start_time": "2023-04-14T11:51:37.632Z"
   },
   {
    "duration": 75,
    "start_time": "2023-04-14T11:51:37.637Z"
   },
   {
    "duration": 5,
    "start_time": "2023-04-14T11:51:37.714Z"
   },
   {
    "duration": 92,
    "start_time": "2023-04-14T11:51:37.721Z"
   },
   {
    "duration": 4,
    "start_time": "2023-04-14T11:51:37.815Z"
   },
   {
    "duration": 105,
    "start_time": "2023-04-14T11:51:37.820Z"
   },
   {
    "duration": 6,
    "start_time": "2023-04-14T11:51:37.927Z"
   },
   {
    "duration": 6,
    "start_time": "2023-04-14T11:52:50.992Z"
   },
   {
    "duration": 3,
    "start_time": "2023-04-14T12:00:58.587Z"
   },
   {
    "duration": 33,
    "start_time": "2023-04-14T12:00:59.474Z"
   },
   {
    "duration": 4,
    "start_time": "2023-04-14T12:01:00.117Z"
   },
   {
    "duration": 3,
    "start_time": "2023-04-14T12:04:59.737Z"
   },
   {
    "duration": 99,
    "start_time": "2023-04-14T12:05:00.379Z"
   },
   {
    "duration": 7,
    "start_time": "2023-04-14T12:05:00.977Z"
   },
   {
    "duration": 4,
    "start_time": "2023-04-14T12:05:01.657Z"
   },
   {
    "duration": 98,
    "start_time": "2023-04-14T12:05:02.310Z"
   },
   {
    "duration": 9,
    "start_time": "2023-04-14T12:05:02.883Z"
   },
   {
    "duration": 3,
    "start_time": "2023-04-14T12:05:03.411Z"
   },
   {
    "duration": 94,
    "start_time": "2023-04-14T12:05:03.971Z"
   },
   {
    "duration": 6,
    "start_time": "2023-04-14T12:05:04.481Z"
   },
   {
    "duration": 1283,
    "start_time": "2023-04-14T12:05:28.741Z"
   },
   {
    "duration": 4,
    "start_time": "2023-04-14T12:05:30.026Z"
   },
   {
    "duration": 12393,
    "start_time": "2023-04-14T12:05:30.031Z"
   },
   {
    "duration": 34,
    "start_time": "2023-04-14T12:05:42.426Z"
   },
   {
    "duration": 15,
    "start_time": "2023-04-14T12:05:42.462Z"
   },
   {
    "duration": 25,
    "start_time": "2023-04-14T12:05:42.479Z"
   },
   {
    "duration": 101,
    "start_time": "2023-04-14T12:05:42.506Z"
   },
   {
    "duration": 5,
    "start_time": "2023-04-14T12:05:42.609Z"
   },
   {
    "duration": 11,
    "start_time": "2023-04-14T12:05:42.615Z"
   },
   {
    "duration": 123,
    "start_time": "2023-04-14T12:05:42.629Z"
   },
   {
    "duration": 5,
    "start_time": "2023-04-14T12:05:42.754Z"
   },
   {
    "duration": 9,
    "start_time": "2023-04-14T12:05:42.760Z"
   },
   {
    "duration": 131,
    "start_time": "2023-04-14T12:05:42.771Z"
   },
   {
    "duration": 6,
    "start_time": "2023-04-14T12:05:42.904Z"
   },
   {
    "duration": 7,
    "start_time": "2023-04-14T12:05:42.911Z"
   },
   {
    "duration": 1176,
    "start_time": "2023-04-14T12:05:42.920Z"
   },
   {
    "duration": 7,
    "start_time": "2023-04-14T12:05:44.102Z"
   },
   {
    "duration": 15,
    "start_time": "2023-04-14T12:05:44.112Z"
   },
   {
    "duration": 78,
    "start_time": "2023-04-14T12:05:44.128Z"
   },
   {
    "duration": 5,
    "start_time": "2023-04-14T12:05:44.207Z"
   },
   {
    "duration": 17,
    "start_time": "2023-04-14T12:05:44.213Z"
   },
   {
    "duration": 37,
    "start_time": "2023-04-14T12:05:44.231Z"
   },
   {
    "duration": 5,
    "start_time": "2023-04-14T12:05:44.272Z"
   },
   {
    "duration": 15,
    "start_time": "2023-04-14T12:05:44.278Z"
   },
   {
    "duration": 1594,
    "start_time": "2023-04-14T12:05:44.296Z"
   },
   {
    "duration": 9,
    "start_time": "2023-04-14T12:05:45.896Z"
   },
   {
    "duration": 23,
    "start_time": "2023-04-14T12:05:45.906Z"
   },
   {
    "duration": 545,
    "start_time": "2023-04-14T12:05:45.933Z"
   },
   {
    "duration": 7,
    "start_time": "2023-04-14T12:05:46.480Z"
   },
   {
    "duration": 434,
    "start_time": "2023-04-14T12:05:46.489Z"
   },
   {
    "duration": 4,
    "start_time": "2023-04-14T12:05:46.925Z"
   },
   {
    "duration": 86,
    "start_time": "2023-04-14T12:05:46.930Z"
   },
   {
    "duration": 5,
    "start_time": "2023-04-14T12:05:47.018Z"
   },
   {
    "duration": 160,
    "start_time": "2023-04-14T12:05:47.024Z"
   },
   {
    "duration": 8,
    "start_time": "2023-04-14T12:05:47.186Z"
   },
   {
    "duration": 109,
    "start_time": "2023-04-14T12:05:47.201Z"
   },
   {
    "duration": 5,
    "start_time": "2023-04-14T12:05:47.312Z"
   },
   {
    "duration": 1302,
    "start_time": "2023-04-16T15:33:15.609Z"
   },
   {
    "duration": 4,
    "start_time": "2023-04-16T15:33:16.912Z"
   },
   {
    "duration": 4996,
    "start_time": "2023-04-16T15:33:16.917Z"
   },
   {
    "duration": 43,
    "start_time": "2023-04-16T15:33:21.915Z"
   },
   {
    "duration": 13,
    "start_time": "2023-04-16T15:33:21.960Z"
   },
   {
    "duration": 2,
    "start_time": "2023-04-16T15:33:21.975Z"
   },
   {
    "duration": 70,
    "start_time": "2023-04-16T15:33:21.979Z"
   },
   {
    "duration": 5,
    "start_time": "2023-04-16T15:33:22.050Z"
   },
   {
    "duration": 13,
    "start_time": "2023-04-16T15:33:22.056Z"
   },
   {
    "duration": 126,
    "start_time": "2023-04-16T15:33:22.070Z"
   },
   {
    "duration": 7,
    "start_time": "2023-04-16T15:33:22.199Z"
   },
   {
    "duration": 3,
    "start_time": "2023-04-16T15:33:22.208Z"
   },
   {
    "duration": 118,
    "start_time": "2023-04-16T15:33:22.212Z"
   },
   {
    "duration": 4,
    "start_time": "2023-04-16T15:33:22.333Z"
   },
   {
    "duration": 6,
    "start_time": "2023-04-16T15:33:22.338Z"
   },
   {
    "duration": 1129,
    "start_time": "2023-04-16T15:33:22.345Z"
   },
   {
    "duration": 6,
    "start_time": "2023-04-16T15:33:23.476Z"
   },
   {
    "duration": 10,
    "start_time": "2023-04-16T15:33:23.498Z"
   },
   {
    "duration": 59,
    "start_time": "2023-04-16T15:33:23.510Z"
   },
   {
    "duration": 4,
    "start_time": "2023-04-16T15:33:23.571Z"
   },
   {
    "duration": 6,
    "start_time": "2023-04-16T15:33:23.577Z"
   },
   {
    "duration": 49,
    "start_time": "2023-04-16T15:33:23.585Z"
   },
   {
    "duration": 4,
    "start_time": "2023-04-16T15:33:23.636Z"
   },
   {
    "duration": 10,
    "start_time": "2023-04-16T15:33:23.641Z"
   },
   {
    "duration": 1456,
    "start_time": "2023-04-16T15:33:23.652Z"
   },
   {
    "duration": 6,
    "start_time": "2023-04-16T15:33:25.110Z"
   },
   {
    "duration": 4,
    "start_time": "2023-04-16T15:33:25.118Z"
   },
   {
    "duration": 486,
    "start_time": "2023-04-16T15:33:25.123Z"
   },
   {
    "duration": 5,
    "start_time": "2023-04-16T15:33:25.611Z"
   },
   {
    "duration": 378,
    "start_time": "2023-04-16T15:33:25.618Z"
   },
   {
    "duration": 5,
    "start_time": "2023-04-16T15:33:25.998Z"
   },
   {
    "duration": 74,
    "start_time": "2023-04-16T15:33:26.004Z"
   },
   {
    "duration": 4,
    "start_time": "2023-04-16T15:33:26.079Z"
   },
   {
    "duration": 75,
    "start_time": "2023-04-16T15:33:26.085Z"
   },
   {
    "duration": 2,
    "start_time": "2023-04-16T15:33:26.161Z"
   },
   {
    "duration": 98,
    "start_time": "2023-04-16T15:33:26.165Z"
   },
   {
    "duration": 5,
    "start_time": "2023-04-16T15:33:26.265Z"
   },
   {
    "duration": 3,
    "start_time": "2023-04-16T15:34:36.011Z"
   },
   {
    "duration": 59,
    "start_time": "2023-04-16T15:34:37.324Z"
   },
   {
    "duration": 4,
    "start_time": "2023-04-16T15:34:38.175Z"
   },
   {
    "duration": 159,
    "start_time": "2023-04-16T15:35:41.209Z"
   },
   {
    "duration": 73,
    "start_time": "2023-04-16T15:35:55.675Z"
   },
   {
    "duration": 75,
    "start_time": "2023-04-16T15:36:30.847Z"
   },
   {
    "duration": 1225,
    "start_time": "2023-04-16T15:37:10.871Z"
   },
   {
    "duration": 4,
    "start_time": "2023-04-16T15:37:12.098Z"
   },
   {
    "duration": 4749,
    "start_time": "2023-04-16T15:37:12.104Z"
   },
   {
    "duration": 32,
    "start_time": "2023-04-16T15:37:16.854Z"
   },
   {
    "duration": 14,
    "start_time": "2023-04-16T15:37:16.888Z"
   },
   {
    "duration": 2,
    "start_time": "2023-04-16T15:37:16.903Z"
   },
   {
    "duration": 70,
    "start_time": "2023-04-16T15:37:16.907Z"
   },
   {
    "duration": 5,
    "start_time": "2023-04-16T15:37:16.979Z"
   },
   {
    "duration": 4,
    "start_time": "2023-04-16T15:37:16.985Z"
   },
   {
    "duration": 125,
    "start_time": "2023-04-16T15:37:16.991Z"
   },
   {
    "duration": 7,
    "start_time": "2023-04-16T15:37:17.117Z"
   },
   {
    "duration": 5,
    "start_time": "2023-04-16T15:37:17.125Z"
   },
   {
    "duration": 119,
    "start_time": "2023-04-16T15:37:17.131Z"
   },
   {
    "duration": 5,
    "start_time": "2023-04-16T15:37:17.253Z"
   },
   {
    "duration": 5,
    "start_time": "2023-04-16T15:37:17.260Z"
   },
   {
    "duration": 1100,
    "start_time": "2023-04-16T15:37:17.267Z"
   },
   {
    "duration": 6,
    "start_time": "2023-04-16T15:37:18.369Z"
   },
   {
    "duration": 4,
    "start_time": "2023-04-16T15:37:18.377Z"
   },
   {
    "duration": 64,
    "start_time": "2023-04-16T15:37:18.382Z"
   },
   {
    "duration": 5,
    "start_time": "2023-04-16T15:37:18.448Z"
   },
   {
    "duration": 4,
    "start_time": "2023-04-16T15:37:18.454Z"
   },
   {
    "duration": 31,
    "start_time": "2023-04-16T15:37:18.460Z"
   },
   {
    "duration": 4,
    "start_time": "2023-04-16T15:37:18.492Z"
   },
   {
    "duration": 4,
    "start_time": "2023-04-16T15:37:18.497Z"
   },
   {
    "duration": 1931,
    "start_time": "2023-04-16T15:37:18.502Z"
   },
   {
    "duration": 8,
    "start_time": "2023-04-16T15:37:20.434Z"
   },
   {
    "duration": 18,
    "start_time": "2023-04-16T15:37:20.443Z"
   },
   {
    "duration": 519,
    "start_time": "2023-04-16T15:37:20.462Z"
   },
   {
    "duration": 5,
    "start_time": "2023-04-16T15:37:20.983Z"
   },
   {
    "duration": 371,
    "start_time": "2023-04-16T15:37:20.990Z"
   },
   {
    "duration": 3,
    "start_time": "2023-04-16T15:37:21.363Z"
   },
   {
    "duration": 84,
    "start_time": "2023-04-16T15:37:21.367Z"
   },
   {
    "duration": 5,
    "start_time": "2023-04-16T15:37:21.453Z"
   },
   {
    "duration": 84,
    "start_time": "2023-04-16T15:37:21.460Z"
   },
   {
    "duration": 3,
    "start_time": "2023-04-16T15:37:21.545Z"
   },
   {
    "duration": 99,
    "start_time": "2023-04-16T15:37:21.550Z"
   },
   {
    "duration": 5,
    "start_time": "2023-04-16T15:37:21.651Z"
   },
   {
    "duration": 1763,
    "start_time": "2023-04-16T16:47:16.037Z"
   },
   {
    "duration": 4,
    "start_time": "2023-04-16T16:47:17.803Z"
   },
   {
    "duration": 12318,
    "start_time": "2023-04-16T16:47:17.810Z"
   },
   {
    "duration": 84,
    "start_time": "2023-04-16T16:47:30.130Z"
   },
   {
    "duration": 19,
    "start_time": "2023-04-16T16:47:30.217Z"
   },
   {
    "duration": 26,
    "start_time": "2023-04-16T16:47:30.238Z"
   },
   {
    "duration": 113,
    "start_time": "2023-04-16T16:47:30.266Z"
   },
   {
    "duration": 9,
    "start_time": "2023-04-16T16:47:30.382Z"
   },
   {
    "duration": 8,
    "start_time": "2023-04-16T16:47:30.406Z"
   },
   {
    "duration": 162,
    "start_time": "2023-04-16T16:47:30.417Z"
   },
   {
    "duration": 8,
    "start_time": "2023-04-16T16:47:30.582Z"
   },
   {
    "duration": 32,
    "start_time": "2023-04-16T16:47:30.592Z"
   },
   {
    "duration": 151,
    "start_time": "2023-04-16T16:47:30.626Z"
   },
   {
    "duration": 6,
    "start_time": "2023-04-16T16:47:30.782Z"
   },
   {
    "duration": 34,
    "start_time": "2023-04-16T16:47:30.790Z"
   },
   {
    "duration": 1316,
    "start_time": "2023-04-16T16:47:30.826Z"
   },
   {
    "duration": 7,
    "start_time": "2023-04-16T16:47:32.144Z"
   },
   {
    "duration": 28,
    "start_time": "2023-04-16T16:47:32.153Z"
   },
   {
    "duration": 76,
    "start_time": "2023-04-16T16:47:32.182Z"
   },
   {
    "duration": 6,
    "start_time": "2023-04-16T16:47:32.260Z"
   },
   {
    "duration": 18,
    "start_time": "2023-04-16T16:47:32.268Z"
   },
   {
    "duration": 55,
    "start_time": "2023-04-16T16:47:32.288Z"
   },
   {
    "duration": 5,
    "start_time": "2023-04-16T16:47:32.345Z"
   },
   {
    "duration": 8,
    "start_time": "2023-04-16T16:47:32.351Z"
   },
   {
    "duration": 1617,
    "start_time": "2023-04-16T16:47:32.361Z"
   },
   {
    "duration": 21,
    "start_time": "2023-04-16T16:47:33.980Z"
   },
   {
    "duration": 4,
    "start_time": "2023-04-16T16:47:34.003Z"
   },
   {
    "duration": 470,
    "start_time": "2023-04-16T16:47:34.009Z"
   },
   {
    "duration": 7,
    "start_time": "2023-04-16T16:47:34.481Z"
   },
   {
    "duration": 447,
    "start_time": "2023-04-16T16:47:34.494Z"
   },
   {
    "duration": 3,
    "start_time": "2023-04-16T16:47:34.943Z"
   },
   {
    "duration": 74,
    "start_time": "2023-04-16T16:47:34.947Z"
   },
   {
    "duration": 5,
    "start_time": "2023-04-16T16:47:35.023Z"
   },
   {
    "duration": 101,
    "start_time": "2023-04-16T16:47:35.030Z"
   },
   {
    "duration": 3,
    "start_time": "2023-04-16T16:47:35.133Z"
   },
   {
    "duration": 168,
    "start_time": "2023-04-16T16:47:35.138Z"
   },
   {
    "duration": 5,
    "start_time": "2023-04-16T16:47:35.308Z"
   }
  ],
  "colab": {
   "provenance": []
  },
  "kernelspec": {
   "display_name": "Python 3 (ipykernel)",
   "language": "python",
   "name": "python3"
  },
  "language_info": {
   "codemirror_mode": {
    "name": "ipython",
    "version": 3
   },
   "file_extension": ".py",
   "mimetype": "text/x-python",
   "name": "python",
   "nbconvert_exporter": "python",
   "pygments_lexer": "ipython3",
   "version": "3.11.5"
  },
  "toc": {
   "base_numbering": 1,
   "nav_menu": {},
   "number_sections": true,
   "sideBar": true,
   "skip_h1_title": true,
   "title_cell": "Table of Contents",
   "title_sidebar": "Contents",
   "toc_cell": false,
   "toc_position": {},
   "toc_section_display": true,
   "toc_window_display": false
  }
 },
 "nbformat": 4,
 "nbformat_minor": 1
}
